{
 "cells": [
  {
   "cell_type": "markdown",
   "metadata": {},
   "source": [
    "# Importing the Required Libraries"
   ]
  },
  {
   "cell_type": "code",
   "execution_count": 1,
   "metadata": {
    "execution": {
     "iopub.execute_input": "2025-06-24T09:25:41.246373Z",
     "iopub.status.busy": "2025-06-24T09:25:41.246029Z",
     "iopub.status.idle": "2025-06-24T09:25:45.492994Z",
     "shell.execute_reply": "2025-06-24T09:25:45.491973Z",
     "shell.execute_reply.started": "2025-06-24T09:25:41.246346Z"
    },
    "trusted": true
   },
   "outputs": [
    {
     "name": "stdout",
     "output_type": "stream",
     "text": [
      "\u001b[2K   \u001b[90m━━━━━━━━━━━━━━━━━━━━━━━━━━━━━━━━━━━━━━━━\u001b[0m \u001b[32m3.1/3.1 MB\u001b[0m \u001b[31m41.0 MB/s\u001b[0m eta \u001b[36m0:00:00\u001b[0m00:01\u001b[0m00:01\u001b[0m\n",
      "\u001b[?25h"
     ]
    }
   ],
   "source": [
    "!pip install -q librosa resampy"
   ]
  },
  {
   "cell_type": "code",
   "execution_count": null,
   "metadata": {
    "_cell_guid": "b1076dfc-b9ad-4769-8c92-a6c4dae69d19",
    "_uuid": "8f2839f25d086af736a60e9eeb907d3b93b6e0e5",
    "execution": {
     "iopub.execute_input": "2025-06-24T09:25:45.495291Z",
     "iopub.status.busy": "2025-06-24T09:25:45.495019Z",
     "iopub.status.idle": "2025-06-24T09:25:59.043015Z",
     "shell.execute_reply": "2025-06-24T09:25:59.042464Z",
     "shell.execute_reply.started": "2025-06-24T09:25:45.495267Z"
    },
    "trusted": true
   },
   "outputs": [
    {
     "name": "stderr",
     "output_type": "stream",
     "text": [
      "2025-06-24 09:25:47.839392: E external/local_xla/xla/stream_executor/cuda/cuda_fft.cc:477] Unable to register cuFFT factory: Attempting to register factory for plugin cuFFT when one has already been registered\n",
      "WARNING: All log messages before absl::InitializeLog() is called are written to STDERR\n",
      "E0000 00:00:1750757148.033186      35 cuda_dnn.cc:8310] Unable to register cuDNN factory: Attempting to register factory for plugin cuDNN when one has already been registered\n",
      "E0000 00:00:1750757148.091119      35 cuda_blas.cc:1418] Unable to register cuBLAS factory: Attempting to register factory for plugin cuBLAS when one has already been registered\n"
     ]
    }
   ],
   "source": [
    "import os\n",
    "import numpy as np\n",
    "import pandas as pd\n",
    "import librosa\n",
    "from sklearn.model_selection import train_test_split\n",
    "from sklearn.preprocessing import LabelEncoder\n",
    "from sklearn.metrics import classification_report, confusion_matrix, ConfusionMatrixDisplay\n",
    "import matplotlib.pyplot as plt\n",
    "from tqdm import tqdm\n",
    "import tensorflow as tf\n",
    "from tensorflow.keras.models import Model\n",
    "from tensorflow.keras.layers import (\n",
    "    Input, Conv2D, MaxPooling2D, Dense, \n",
    "    BatchNormalization, GlobalAveragePooling2D,\n",
    ")\n",
    "from tensorflow.keras.callbacks import EarlyStopping, ModelCheckpoint, ReduceLROnPlateau\n",
    "from tensorflow.keras.optimizers import Adam\n",
    "from tensorflow.keras.regularizers import l2\n",
    "from tensorflow.keras.utils import to_categorical\n",
    "\n",
    "import warnings\n",
    "warnings.filterwarnings('ignore')"
   ]
  },
  {
   "cell_type": "markdown",
   "metadata": {},
   "source": [
    "# Structuring the Dataset"
   ]
  },
  {
   "cell_type": "code",
   "execution_count": 3,
   "metadata": {
    "execution": {
     "iopub.execute_input": "2025-06-24T09:26:06.857542Z",
     "iopub.status.busy": "2025-06-24T09:26:06.857196Z",
     "iopub.status.idle": "2025-06-24T09:26:06.863920Z",
     "shell.execute_reply": "2025-06-24T09:26:06.863189Z",
     "shell.execute_reply.started": "2025-06-24T09:26:06.857515Z"
    },
    "trusted": true
   },
   "outputs": [],
   "source": [
    "emotion_map = {\n",
    "    '01': 'neutral',\n",
    "    '02': 'calm',\n",
    "    '03': 'happy',\n",
    "    '04': 'sad',\n",
    "    '05': 'angry',\n",
    "    '06': 'fearful',\n",
    "    '07': 'disgust',\n",
    "    '08': 'surprised'\n",
    "}\n",
    "intensity_map = {\n",
    "    '01': 'normal',\n",
    "    '02': 'strong'\n",
    "}\n",
    "statement_map = {\n",
    "    '01': 'Kids are talking by the door',\n",
    "    '02': 'Dogs are sitting by the door'\n",
    "}\n",
    "repetition_map = {\n",
    "    '01': '1st',\n",
    "    '02': '2nd'\n",
    "}\n",
    "\n",
    "ROOT_SPEECH = \"/kaggle/input/emotion-classification-mars/Audio_Speech_Actors_01-24\"\n",
    "ROOT_SONG = \"/kaggle/input/emotion-classification-mars/Audio_Song_Actors_01-24\""
   ]
  },
  {
   "cell_type": "code",
   "execution_count": 4,
   "metadata": {
    "execution": {
     "iopub.execute_input": "2025-06-24T09:26:08.405359Z",
     "iopub.status.busy": "2025-06-24T09:26:08.405113Z",
     "iopub.status.idle": "2025-06-24T09:26:08.410930Z",
     "shell.execute_reply": "2025-06-24T09:26:08.410311Z",
     "shell.execute_reply.started": "2025-06-24T09:26:08.405342Z"
    },
    "trusted": true
   },
   "outputs": [],
   "source": [
    "def parse_filename(filepath, source):\n",
    "    filename = os.path.basename(filepath)\n",
    "    parts = filename.split('.')[0].split('-')\n",
    "    \n",
    "    if parts[0] != '03':\n",
    "        return None  # Not audio-only\n",
    "    vocal_channel = parts[1]\n",
    "    emotion = parts[2]\n",
    "    intensity = parts[3]\n",
    "    statement = parts[4]\n",
    "    repetition = parts[5]\n",
    "    actor_id = int(parts[6])\n",
    "    gender = 'male' if actor_id % 2 else 'female'\n",
    "    emotion_name = emotion_map.get(emotion)\n",
    "    modality = 'speech' if vocal_channel == '01' else 'song'\n",
    "    \n",
    "    return {\n",
    "        'filepath': filepath,\n",
    "        'emotion_label': emotion,\n",
    "        'emotion_name': emotion_name,\n",
    "        'intensity': intensity_map.get(intensity),\n",
    "        'statement': statement_map.get(statement),\n",
    "        'repetition': repetition_map.get(repetition),\n",
    "        'gender': gender,\n",
    "        'modality': modality\n",
    "    }"
   ]
  },
  {
   "cell_type": "code",
   "execution_count": 5,
   "metadata": {
    "execution": {
     "iopub.execute_input": "2025-06-24T09:26:10.316828Z",
     "iopub.status.busy": "2025-06-24T09:26:10.316153Z",
     "iopub.status.idle": "2025-06-24T09:26:10.687462Z",
     "shell.execute_reply": "2025-06-24T09:26:10.686893Z",
     "shell.execute_reply.started": "2025-06-24T09:26:10.316808Z"
    },
    "trusted": true
   },
   "outputs": [],
   "source": [
    "data = []\n",
    "for root_dir, source in [(ROOT_SPEECH, 'speech'), (ROOT_SONG, 'song')]:\n",
    "    for actor_folder in os.listdir(root_dir):\n",
    "        actor_path = os.path.join(root_dir, actor_folder)\n",
    "        if os.path.isdir(actor_path):\n",
    "            for file in os.listdir(actor_path):\n",
    "                if file.endswith('.wav'):\n",
    "                    full_path = os.path.join(actor_path, file)\n",
    "                    parsed = parse_filename(full_path, source)\n",
    "                    if parsed:\n",
    "                        data.append(parsed)"
   ]
  },
  {
   "cell_type": "code",
   "execution_count": 6,
   "metadata": {
    "execution": {
     "iopub.execute_input": "2025-06-24T09:26:11.761364Z",
     "iopub.status.busy": "2025-06-24T09:26:11.761068Z",
     "iopub.status.idle": "2025-06-24T09:26:11.778362Z",
     "shell.execute_reply": "2025-06-24T09:26:11.777660Z",
     "shell.execute_reply.started": "2025-06-24T09:26:11.761343Z"
    },
    "trusted": true
   },
   "outputs": [
    {
     "name": "stdout",
     "output_type": "stream",
     "text": [
      "Total samples: 2452\n",
      "Emotion distribution:\n",
      "emotion_name\n",
      "fearful      376\n",
      "happy        376\n",
      "calm         376\n",
      "sad          376\n",
      "angry        376\n",
      "surprised    192\n",
      "disgust      192\n",
      "neutral      188\n",
      "Name: count, dtype: int64\n"
     ]
    }
   ],
   "source": [
    "df = pd.DataFrame(data)\n",
    "print(f\"Total samples: {len(df)}\")\n",
    "print(f\"Emotion distribution:\\n{df['emotion_name'].value_counts()}\")"
   ]
  },
  {
   "cell_type": "code",
   "execution_count": 7,
   "metadata": {
    "execution": {
     "iopub.execute_input": "2025-06-24T09:26:21.969782Z",
     "iopub.status.busy": "2025-06-24T09:26:21.969501Z",
     "iopub.status.idle": "2025-06-24T09:26:21.991527Z",
     "shell.execute_reply": "2025-06-24T09:26:21.990599Z",
     "shell.execute_reply.started": "2025-06-24T09:26:21.969760Z"
    },
    "trusted": true
   },
   "outputs": [
    {
     "data": {
      "text/html": [
       "<div>\n",
       "<style scoped>\n",
       "    .dataframe tbody tr th:only-of-type {\n",
       "        vertical-align: middle;\n",
       "    }\n",
       "\n",
       "    .dataframe tbody tr th {\n",
       "        vertical-align: top;\n",
       "    }\n",
       "\n",
       "    .dataframe thead th {\n",
       "        text-align: right;\n",
       "    }\n",
       "</style>\n",
       "<table border=\"1\" class=\"dataframe\">\n",
       "  <thead>\n",
       "    <tr style=\"text-align: right;\">\n",
       "      <th></th>\n",
       "      <th>filepath</th>\n",
       "      <th>emotion_label</th>\n",
       "      <th>emotion_name</th>\n",
       "      <th>intensity</th>\n",
       "      <th>statement</th>\n",
       "      <th>repetition</th>\n",
       "      <th>gender</th>\n",
       "      <th>modality</th>\n",
       "    </tr>\n",
       "  </thead>\n",
       "  <tbody>\n",
       "    <tr>\n",
       "      <th>0</th>\n",
       "      <td>/kaggle/input/emotion-classification-mars/Audi...</td>\n",
       "      <td>08</td>\n",
       "      <td>surprised</td>\n",
       "      <td>normal</td>\n",
       "      <td>Kids are talking by the door</td>\n",
       "      <td>1st</td>\n",
       "      <td>female</td>\n",
       "      <td>speech</td>\n",
       "    </tr>\n",
       "    <tr>\n",
       "      <th>1</th>\n",
       "      <td>/kaggle/input/emotion-classification-mars/Audi...</td>\n",
       "      <td>01</td>\n",
       "      <td>neutral</td>\n",
       "      <td>normal</td>\n",
       "      <td>Kids are talking by the door</td>\n",
       "      <td>1st</td>\n",
       "      <td>female</td>\n",
       "      <td>speech</td>\n",
       "    </tr>\n",
       "    <tr>\n",
       "      <th>2</th>\n",
       "      <td>/kaggle/input/emotion-classification-mars/Audi...</td>\n",
       "      <td>07</td>\n",
       "      <td>disgust</td>\n",
       "      <td>strong</td>\n",
       "      <td>Kids are talking by the door</td>\n",
       "      <td>2nd</td>\n",
       "      <td>female</td>\n",
       "      <td>speech</td>\n",
       "    </tr>\n",
       "    <tr>\n",
       "      <th>3</th>\n",
       "      <td>/kaggle/input/emotion-classification-mars/Audi...</td>\n",
       "      <td>07</td>\n",
       "      <td>disgust</td>\n",
       "      <td>normal</td>\n",
       "      <td>Kids are talking by the door</td>\n",
       "      <td>2nd</td>\n",
       "      <td>female</td>\n",
       "      <td>speech</td>\n",
       "    </tr>\n",
       "    <tr>\n",
       "      <th>4</th>\n",
       "      <td>/kaggle/input/emotion-classification-mars/Audi...</td>\n",
       "      <td>01</td>\n",
       "      <td>neutral</td>\n",
       "      <td>normal</td>\n",
       "      <td>Dogs are sitting by the door</td>\n",
       "      <td>1st</td>\n",
       "      <td>female</td>\n",
       "      <td>speech</td>\n",
       "    </tr>\n",
       "  </tbody>\n",
       "</table>\n",
       "</div>"
      ],
      "text/plain": [
       "                                            filepath emotion_label  \\\n",
       "0  /kaggle/input/emotion-classification-mars/Audi...            08   \n",
       "1  /kaggle/input/emotion-classification-mars/Audi...            01   \n",
       "2  /kaggle/input/emotion-classification-mars/Audi...            07   \n",
       "3  /kaggle/input/emotion-classification-mars/Audi...            07   \n",
       "4  /kaggle/input/emotion-classification-mars/Audi...            01   \n",
       "\n",
       "  emotion_name intensity                     statement repetition  gender  \\\n",
       "0    surprised    normal  Kids are talking by the door        1st  female   \n",
       "1      neutral    normal  Kids are talking by the door        1st  female   \n",
       "2      disgust    strong  Kids are talking by the door        2nd  female   \n",
       "3      disgust    normal  Kids are talking by the door        2nd  female   \n",
       "4      neutral    normal  Dogs are sitting by the door        1st  female   \n",
       "\n",
       "  modality  \n",
       "0   speech  \n",
       "1   speech  \n",
       "2   speech  \n",
       "3   speech  \n",
       "4   speech  "
      ]
     },
     "execution_count": 7,
     "metadata": {},
     "output_type": "execute_result"
    }
   ],
   "source": [
    "df.head()"
   ]
  },
  {
   "cell_type": "markdown",
   "metadata": {},
   "source": [
    "#  Feature Extraction using MFCC"
   ]
  },
  {
   "cell_type": "code",
   "execution_count": null,
   "metadata": {
    "execution": {
     "iopub.execute_input": "2025-06-24T09:37:06.954857Z",
     "iopub.status.busy": "2025-06-24T09:37:06.954296Z",
     "iopub.status.idle": "2025-06-24T09:37:06.965597Z",
     "shell.execute_reply": "2025-06-24T09:37:06.964832Z",
     "shell.execute_reply.started": "2025-06-24T09:37:06.954831Z"
    },
    "trusted": true
   },
   "outputs": [],
   "source": [
    "# Enhanced feature extraction with multiple features\n",
    "def extract_enhanced_features(file_path, max_pad_len=174):\n",
    "    \n",
    "        audio, sample_rate = librosa.load(file_path, sr=22050, res_type='kaiser_fast')\n",
    "        \n",
    "        if np.max(np.abs(audio)) > 0:\n",
    "            audio = audio / np.max(np.abs(audio))\n",
    "        \n",
    "        # Extract multiple features with error handling\n",
    "        features_list = []\n",
    "        \n",
    "        # 1. MFCC features\n",
    "        try:\n",
    "            mfcc = librosa.feature.mfcc(y=audio, sr=sample_rate, n_mfcc=40, n_fft=2048, hop_length=512)\n",
    "            features_list.append(mfcc)\n",
    "        except:\n",
    "            mfcc = librosa.feature.mfcc(y=audio, sr=sample_rate, n_mfcc=40)\n",
    "            features_list.append(mfcc)\n",
    "        \n",
    "        # 2. Chroma features\n",
    "        try:\n",
    "            chroma = librosa.feature.chroma_stft(y=audio, sr=sample_rate, hop_length=512)\n",
    "            features_list.append(chroma)\n",
    "        except:\n",
    "            try:\n",
    "                chroma = librosa.feature.chromagram(y=audio, sr=sample_rate)\n",
    "                features_list.append(chroma)\n",
    "            except:\n",
    "                pass\n",
    "        \n",
    "        # Spectral contrast\n",
    "        try:\n",
    "            spectral_contrast = librosa.feature.spectral_contrast(y=audio, sr=sample_rate, hop_length=512)\n",
    "            features_list.append(spectral_contrast)\n",
    "        except:\n",
    "            pass\n",
    "        \n",
    "        # Zero crossing rate\n",
    "        try:\n",
    "            zcr = librosa.feature.zero_crossing_rate(audio, hop_length=512)\n",
    "            features_list.append(zcr)\n",
    "        except:\n",
    "            pass\n",
    "        \n",
    "        # Spectral rolloff\n",
    "        try:\n",
    "            spectral_rolloff = librosa.feature.spectral_rolloff(y=audio, sr=sample_rate, hop_length=512)\n",
    "            features_list.append(spectral_rolloff)\n",
    "        except:\n",
    "            pass\n",
    "        \n",
    "        # Spectral centroid\n",
    "        try:\n",
    "            spectral_centroid = librosa.feature.spectral_centroid(y=audio, sr=sample_rate, hop_length=512)\n",
    "            features_list.append(spectral_centroid)\n",
    "        except:\n",
    "            pass\n",
    "        \n",
    "        # RMS Energy\n",
    "        try:\n",
    "            rms = librosa.feature.rms(y=audio, hop_length=512)\n",
    "            features_list.append(rms)\n",
    "        except:\n",
    "            pass\n",
    "        \n",
    "        # Spectral bandwidth\n",
    "        try:\n",
    "            spectral_bandwidth = librosa.feature.spectral_bandwidth(y=audio, sr=sample_rate, hop_length=512)\n",
    "            features_list.append(spectral_bandwidth)\n",
    "        except:\n",
    "            pass\n",
    "        \n",
    "        # Mel-frequency spectral coefficients \n",
    "        try:\n",
    "            mel_spec = librosa.feature.melspectrogram(y=audio, sr=sample_rate, n_mels=13, hop_length=512)\n",
    "            mel_spec_db = librosa.power_to_db(mel_spec, ref=np.max)\n",
    "            features_list.append(mel_spec_db)\n",
    "        except:\n",
    "            pass\n",
    "        \n",
    "        # Combine all available features\n",
    "        if len(features_list) > 0:\n",
    "            \n",
    "            min_frames = min([feat.shape[1] for feat in features_list])\n",
    "            \n",
    "            features_list = [feat[:, :min_frames] for feat in features_list]\n",
    "            \n",
    "            features = np.vstack(features_list)\n",
    "        else:\n",
    "            features = librosa.feature.mfcc(y=audio, sr=sample_rate, n_mfcc=40)\n",
    "        \n",
    "        pad_width = max_pad_len - features.shape[1]\n",
    "        if pad_width > 0:\n",
    "            features = np.pad(features, pad_width=((0, 0), (0, pad_width)), mode='constant')\n",
    "        else:\n",
    "            features = features[:, :max_pad_len]\n",
    "            \n",
    "        return features"
   ]
  },
  {
   "cell_type": "code",
   "execution_count": 21,
   "metadata": {
    "execution": {
     "iopub.execute_input": "2025-06-24T09:37:08.721917Z",
     "iopub.status.busy": "2025-06-24T09:37:08.721303Z",
     "iopub.status.idle": "2025-06-24T09:41:45.040853Z",
     "shell.execute_reply": "2025-06-24T09:41:45.040196Z",
     "shell.execute_reply.started": "2025-06-24T09:37:08.721890Z"
    },
    "trusted": true
   },
   "outputs": [
    {
     "name": "stdout",
     "output_type": "stream",
     "text": [
      "Extracting enhanced features...\n"
     ]
    },
    {
     "name": "stderr",
     "output_type": "stream",
     "text": [
      "100%|██████████| 2452/2452 [04:36<00:00,  8.87it/s]\n"
     ]
    }
   ],
   "source": [
    "print(\"Extracting enhanced features...\")\n",
    "X, y = [], []\n",
    "failed_files = []\n",
    "\n",
    "for i, row in tqdm(df.iterrows(), total=len(df)):\n",
    "    features = extract_enhanced_features(row[\"filepath\"])\n",
    "    if features is not None:\n",
    "        X.append(features)\n",
    "        y.append(row[\"emotion_name\"])\n",
    "    else:\n",
    "        failed_files.append(row[\"filepath\"])"
   ]
  },
  {
   "cell_type": "code",
   "execution_count": 22,
   "metadata": {
    "execution": {
     "iopub.execute_input": "2025-06-24T09:41:45.042507Z",
     "iopub.status.busy": "2025-06-24T09:41:45.042247Z",
     "iopub.status.idle": "2025-06-24T09:41:45.134070Z",
     "shell.execute_reply": "2025-06-24T09:41:45.133311Z",
     "shell.execute_reply.started": "2025-06-24T09:41:45.042490Z"
    },
    "trusted": true
   },
   "outputs": [
    {
     "name": "stdout",
     "output_type": "stream",
     "text": [
      "Feature shape: (2452, 77, 174)\n",
      "Labels shape: (2452,)\n"
     ]
    }
   ],
   "source": [
    "X = np.array(X)\n",
    "y = np.array(y)\n",
    "\n",
    "print(f\"Feature shape: {X.shape}\")\n",
    "print(f\"Labels shape: {y.shape}\")"
   ]
  },
  {
   "cell_type": "code",
   "execution_count": 25,
   "metadata": {
    "execution": {
     "iopub.execute_input": "2025-06-24T09:41:49.156311Z",
     "iopub.status.busy": "2025-06-24T09:41:49.155564Z",
     "iopub.status.idle": "2025-06-24T09:41:49.161401Z",
     "shell.execute_reply": "2025-06-24T09:41:49.160616Z",
     "shell.execute_reply.started": "2025-06-24T09:41:49.156287Z"
    },
    "trusted": true
   },
   "outputs": [
    {
     "name": "stdout",
     "output_type": "stream",
     "text": [
      "Number of classes: 8\n",
      "Classes: ['angry' 'calm' 'disgust' 'fearful' 'happy' 'neutral' 'sad' 'surprised']\n"
     ]
    }
   ],
   "source": [
    "le = LabelEncoder()\n",
    "y_encoded = le.fit_transform(y)\n",
    "num_classes = len(le.classes_)\n",
    "print(f\"Number of classes: {num_classes}\")\n",
    "print(f\"Classes: {le.classes_}\")"
   ]
  },
  {
   "cell_type": "code",
   "execution_count": 26,
   "metadata": {
    "execution": {
     "iopub.execute_input": "2025-06-24T09:41:51.883079Z",
     "iopub.status.busy": "2025-06-24T09:41:51.882515Z",
     "iopub.status.idle": "2025-06-24T09:41:51.962558Z",
     "shell.execute_reply": "2025-06-24T09:41:51.961770Z",
     "shell.execute_reply.started": "2025-06-24T09:41:51.883057Z"
    },
    "trusted": true
   },
   "outputs": [
    {
     "name": "stdout",
     "output_type": "stream",
     "text": [
      "Training set shape: (1961, 77, 174, 1)\n",
      "Validation set shape: (491, 77, 174, 1)\n"
     ]
    }
   ],
   "source": [
    "# Reshape for CNN input\n",
    "X = X.reshape(X.shape[0], X.shape[1], X.shape[2], 1)\n",
    "\n",
    "# Split data\n",
    "X_train, X_val, y_train, y_val = train_test_split(\n",
    "    X, y_encoded, test_size=0.2, random_state=42, stratify=y_encoded\n",
    ")\n",
    "\n",
    "print(f\"Training set shape: {X_train.shape}\")\n",
    "print(f\"Validation set shape: {X_val.shape}\")"
   ]
  },
  {
   "cell_type": "code",
   "execution_count": 27,
   "metadata": {
    "execution": {
     "iopub.execute_input": "2025-06-24T09:41:53.725929Z",
     "iopub.status.busy": "2025-06-24T09:41:53.725653Z",
     "iopub.status.idle": "2025-06-24T09:41:53.731689Z",
     "shell.execute_reply": "2025-06-24T09:41:53.730954Z",
     "shell.execute_reply.started": "2025-06-24T09:41:53.725908Z"
    },
    "trusted": true
   },
   "outputs": [],
   "source": [
    "def augment_data(X_train, y_train, augmentation_factor=2):\n",
    "    \"\"\"Apply data augmentation techniques to training data only\"\"\"\n",
    "    augmented_X = []\n",
    "    augmented_y = []\n",
    "    \n",
    "    for i in range(len(X_train)):\n",
    "        # Original sample\n",
    "        augmented_X.append(X_train[i])\n",
    "        augmented_y.append(y_train[i])\n",
    "        \n",
    "        # Apply augmentations\n",
    "        for _ in range(augmentation_factor):\n",
    "            # Time shifting\n",
    "            shift = np.random.randint(-10, 10)\n",
    "            shifted = np.roll(X_train[i], shift, axis=1)\n",
    "            augmented_X.append(shifted)\n",
    "            augmented_y.append(y_train[i])\n",
    "            \n",
    "            # Add noise\n",
    "            noise_factor = 0.005\n",
    "            noise = np.random.normal(0, noise_factor, X_train[i].shape)\n",
    "            noisy = X_train[i] + noise\n",
    "            augmented_X.append(noisy)\n",
    "            augmented_y.append(y_train[i])\n",
    "    \n",
    "    return np.array(augmented_X), np.array(augmented_y)"
   ]
  },
  {
   "cell_type": "code",
   "execution_count": 28,
   "metadata": {
    "execution": {
     "iopub.execute_input": "2025-06-24T09:41:56.769225Z",
     "iopub.status.busy": "2025-06-24T09:41:56.768585Z",
     "iopub.status.idle": "2025-06-24T09:41:57.997203Z",
     "shell.execute_reply": "2025-06-24T09:41:57.996540Z",
     "shell.execute_reply.started": "2025-06-24T09:41:56.769199Z"
    },
    "trusted": true
   },
   "outputs": [
    {
     "name": "stdout",
     "output_type": "stream",
     "text": [
      "Applying data augmentation to training data...\n",
      "Augmented training set shape: (5883, 77, 174, 1)\n"
     ]
    }
   ],
   "source": [
    "print(\"Applying data augmentation to training data...\")\n",
    "X_train_aug, y_train_aug = augment_data(X_train, y_train, augmentation_factor=1)\n",
    "print(f\"Augmented training set shape: {X_train_aug.shape}\")"
   ]
  },
  {
   "cell_type": "code",
   "execution_count": null,
   "metadata": {
    "execution": {
     "iopub.execute_input": "2025-06-24T10:18:52.320060Z",
     "iopub.status.busy": "2025-06-24T10:18:52.319552Z",
     "iopub.status.idle": "2025-06-24T10:18:52.327683Z",
     "shell.execute_reply": "2025-06-24T10:18:52.327169Z",
     "shell.execute_reply.started": "2025-06-24T10:18:52.320011Z"
    },
    "trusted": true
   },
   "outputs": [],
   "source": [
    "def create_improved_model(input_shape, num_classes):\n",
    "    inp = Input(shape=input_shape)\n",
    "    \n",
    "    # First CNN block\n",
    "    x = Conv2D(32, (3, 3), activation='relu', padding='same')(inp)\n",
    "    x = BatchNormalization()(x)\n",
    "    x = Conv2D(32, (3, 3), activation='relu', padding='same')(x)\n",
    "    x = MaxPooling2D((2, 2))(x)\n",
    "    \n",
    "    # Second CNN block\n",
    "    x = Conv2D(64, (3, 3), activation='relu', padding='same')(x)\n",
    "    x = BatchNormalization()(x)\n",
    "    x = Conv2D(64, (3, 3), activation='relu', padding='same')(x)\n",
    "    x = MaxPooling2D((2, 2))(x)\n",
    "    \n",
    "    # Third CNN block\n",
    "    x = Conv2D(128, (3, 3), activation='relu', padding='same')(x)\n",
    "    x = Conv2D(128, (3, 3), activation='relu', padding='same')(x)\n",
    "    x = BatchNormalization()(x)\n",
    "    x = MaxPooling2D((2, 2))(x)\n",
    "    \n",
    "    # Global Average Pooling to reduce parameters\n",
    "    x = GlobalAveragePooling2D()(x)\n",
    "    \n",
    "    # Dense layers with regularization\n",
    "    x = Dense(256, activation='relu', kernel_regularizer=l2(0.001))(x)\n",
    "    x = BatchNormalization()(x)\n",
    "    \n",
    "    x = Dense(128, activation='relu', kernel_regularizer=l2(0.001))(x)\n",
    "    x = BatchNormalization()(x)\n",
    "\n",
    "    # Output layer\n",
    "    out = Dense(num_classes, activation='softmax')(x)\n",
    "    \n",
    "    model = Model(inputs=inp, outputs=out)\n",
    "    return model"
   ]
  },
  {
   "cell_type": "code",
   "execution_count": 90,
   "metadata": {
    "execution": {
     "iopub.execute_input": "2025-06-24T10:18:52.898448Z",
     "iopub.status.busy": "2025-06-24T10:18:52.897908Z",
     "iopub.status.idle": "2025-06-24T10:18:52.994107Z",
     "shell.execute_reply": "2025-06-24T10:18:52.993576Z",
     "shell.execute_reply.started": "2025-06-24T10:18:52.898428Z"
    },
    "trusted": true
   },
   "outputs": [],
   "source": [
    "# Create and compile model\n",
    "input_shape = (X_train.shape[1], X_train.shape[2], 1)\n",
    "model = create_improved_model(input_shape, num_classes)"
   ]
  },
  {
   "cell_type": "code",
   "execution_count": 91,
   "metadata": {
    "execution": {
     "iopub.execute_input": "2025-06-24T10:18:54.490789Z",
     "iopub.status.busy": "2025-06-24T10:18:54.490509Z",
     "iopub.status.idle": "2025-06-24T10:18:54.517638Z",
     "shell.execute_reply": "2025-06-24T10:18:54.517096Z",
     "shell.execute_reply.started": "2025-06-24T10:18:54.490761Z"
    },
    "trusted": true
   },
   "outputs": [
    {
     "data": {
      "text/html": [
       "<pre style=\"white-space:pre;overflow-x:auto;line-height:normal;font-family:Menlo,'DejaVu Sans Mono',consolas,'Courier New',monospace\"><span style=\"font-weight: bold\">Model: \"functional_12\"</span>\n",
       "</pre>\n"
      ],
      "text/plain": [
       "\u001b[1mModel: \"functional_12\"\u001b[0m\n"
      ]
     },
     "metadata": {},
     "output_type": "display_data"
    },
    {
     "data": {
      "text/html": [
       "<pre style=\"white-space:pre;overflow-x:auto;line-height:normal;font-family:Menlo,'DejaVu Sans Mono',consolas,'Courier New',monospace\">┏━━━━━━━━━━━━━━━━━━━━━━━━━━━━━━━━━━━━━━┳━━━━━━━━━━━━━━━━━━━━━━━━━━━━━┳━━━━━━━━━━━━━━━━━┓\n",
       "┃<span style=\"font-weight: bold\"> Layer (type)                         </span>┃<span style=\"font-weight: bold\"> Output Shape                </span>┃<span style=\"font-weight: bold\">         Param # </span>┃\n",
       "┡━━━━━━━━━━━━━━━━━━━━━━━━━━━━━━━━━━━━━━╇━━━━━━━━━━━━━━━━━━━━━━━━━━━━━╇━━━━━━━━━━━━━━━━━┩\n",
       "│ input_layer_12 (<span style=\"color: #0087ff; text-decoration-color: #0087ff\">InputLayer</span>)          │ (<span style=\"color: #00d7ff; text-decoration-color: #00d7ff\">None</span>, <span style=\"color: #00af00; text-decoration-color: #00af00\">77</span>, <span style=\"color: #00af00; text-decoration-color: #00af00\">174</span>, <span style=\"color: #00af00; text-decoration-color: #00af00\">1</span>)          │               <span style=\"color: #00af00; text-decoration-color: #00af00\">0</span> │\n",
       "├──────────────────────────────────────┼─────────────────────────────┼─────────────────┤\n",
       "│ conv2d_64 (<span style=\"color: #0087ff; text-decoration-color: #0087ff\">Conv2D</span>)                   │ (<span style=\"color: #00d7ff; text-decoration-color: #00d7ff\">None</span>, <span style=\"color: #00af00; text-decoration-color: #00af00\">77</span>, <span style=\"color: #00af00; text-decoration-color: #00af00\">174</span>, <span style=\"color: #00af00; text-decoration-color: #00af00\">32</span>)         │             <span style=\"color: #00af00; text-decoration-color: #00af00\">320</span> │\n",
       "├──────────────────────────────────────┼─────────────────────────────┼─────────────────┤\n",
       "│ batch_normalization_45               │ (<span style=\"color: #00d7ff; text-decoration-color: #00d7ff\">None</span>, <span style=\"color: #00af00; text-decoration-color: #00af00\">77</span>, <span style=\"color: #00af00; text-decoration-color: #00af00\">174</span>, <span style=\"color: #00af00; text-decoration-color: #00af00\">32</span>)         │             <span style=\"color: #00af00; text-decoration-color: #00af00\">128</span> │\n",
       "│ (<span style=\"color: #0087ff; text-decoration-color: #0087ff\">BatchNormalization</span>)                 │                             │                 │\n",
       "├──────────────────────────────────────┼─────────────────────────────┼─────────────────┤\n",
       "│ conv2d_65 (<span style=\"color: #0087ff; text-decoration-color: #0087ff\">Conv2D</span>)                   │ (<span style=\"color: #00d7ff; text-decoration-color: #00d7ff\">None</span>, <span style=\"color: #00af00; text-decoration-color: #00af00\">77</span>, <span style=\"color: #00af00; text-decoration-color: #00af00\">174</span>, <span style=\"color: #00af00; text-decoration-color: #00af00\">32</span>)         │           <span style=\"color: #00af00; text-decoration-color: #00af00\">9,248</span> │\n",
       "├──────────────────────────────────────┼─────────────────────────────┼─────────────────┤\n",
       "│ max_pooling2d_34 (<span style=\"color: #0087ff; text-decoration-color: #0087ff\">MaxPooling2D</span>)      │ (<span style=\"color: #00d7ff; text-decoration-color: #00d7ff\">None</span>, <span style=\"color: #00af00; text-decoration-color: #00af00\">38</span>, <span style=\"color: #00af00; text-decoration-color: #00af00\">87</span>, <span style=\"color: #00af00; text-decoration-color: #00af00\">32</span>)          │               <span style=\"color: #00af00; text-decoration-color: #00af00\">0</span> │\n",
       "├──────────────────────────────────────┼─────────────────────────────┼─────────────────┤\n",
       "│ conv2d_66 (<span style=\"color: #0087ff; text-decoration-color: #0087ff\">Conv2D</span>)                   │ (<span style=\"color: #00d7ff; text-decoration-color: #00d7ff\">None</span>, <span style=\"color: #00af00; text-decoration-color: #00af00\">38</span>, <span style=\"color: #00af00; text-decoration-color: #00af00\">87</span>, <span style=\"color: #00af00; text-decoration-color: #00af00\">64</span>)          │          <span style=\"color: #00af00; text-decoration-color: #00af00\">18,496</span> │\n",
       "├──────────────────────────────────────┼─────────────────────────────┼─────────────────┤\n",
       "│ batch_normalization_46               │ (<span style=\"color: #00d7ff; text-decoration-color: #00d7ff\">None</span>, <span style=\"color: #00af00; text-decoration-color: #00af00\">38</span>, <span style=\"color: #00af00; text-decoration-color: #00af00\">87</span>, <span style=\"color: #00af00; text-decoration-color: #00af00\">64</span>)          │             <span style=\"color: #00af00; text-decoration-color: #00af00\">256</span> │\n",
       "│ (<span style=\"color: #0087ff; text-decoration-color: #0087ff\">BatchNormalization</span>)                 │                             │                 │\n",
       "├──────────────────────────────────────┼─────────────────────────────┼─────────────────┤\n",
       "│ conv2d_67 (<span style=\"color: #0087ff; text-decoration-color: #0087ff\">Conv2D</span>)                   │ (<span style=\"color: #00d7ff; text-decoration-color: #00d7ff\">None</span>, <span style=\"color: #00af00; text-decoration-color: #00af00\">38</span>, <span style=\"color: #00af00; text-decoration-color: #00af00\">87</span>, <span style=\"color: #00af00; text-decoration-color: #00af00\">64</span>)          │          <span style=\"color: #00af00; text-decoration-color: #00af00\">36,928</span> │\n",
       "├──────────────────────────────────────┼─────────────────────────────┼─────────────────┤\n",
       "│ max_pooling2d_35 (<span style=\"color: #0087ff; text-decoration-color: #0087ff\">MaxPooling2D</span>)      │ (<span style=\"color: #00d7ff; text-decoration-color: #00d7ff\">None</span>, <span style=\"color: #00af00; text-decoration-color: #00af00\">19</span>, <span style=\"color: #00af00; text-decoration-color: #00af00\">43</span>, <span style=\"color: #00af00; text-decoration-color: #00af00\">64</span>)          │               <span style=\"color: #00af00; text-decoration-color: #00af00\">0</span> │\n",
       "├──────────────────────────────────────┼─────────────────────────────┼─────────────────┤\n",
       "│ conv2d_68 (<span style=\"color: #0087ff; text-decoration-color: #0087ff\">Conv2D</span>)                   │ (<span style=\"color: #00d7ff; text-decoration-color: #00d7ff\">None</span>, <span style=\"color: #00af00; text-decoration-color: #00af00\">19</span>, <span style=\"color: #00af00; text-decoration-color: #00af00\">43</span>, <span style=\"color: #00af00; text-decoration-color: #00af00\">128</span>)         │          <span style=\"color: #00af00; text-decoration-color: #00af00\">73,856</span> │\n",
       "├──────────────────────────────────────┼─────────────────────────────┼─────────────────┤\n",
       "│ conv2d_69 (<span style=\"color: #0087ff; text-decoration-color: #0087ff\">Conv2D</span>)                   │ (<span style=\"color: #00d7ff; text-decoration-color: #00d7ff\">None</span>, <span style=\"color: #00af00; text-decoration-color: #00af00\">19</span>, <span style=\"color: #00af00; text-decoration-color: #00af00\">43</span>, <span style=\"color: #00af00; text-decoration-color: #00af00\">128</span>)         │         <span style=\"color: #00af00; text-decoration-color: #00af00\">147,584</span> │\n",
       "├──────────────────────────────────────┼─────────────────────────────┼─────────────────┤\n",
       "│ batch_normalization_47               │ (<span style=\"color: #00d7ff; text-decoration-color: #00d7ff\">None</span>, <span style=\"color: #00af00; text-decoration-color: #00af00\">19</span>, <span style=\"color: #00af00; text-decoration-color: #00af00\">43</span>, <span style=\"color: #00af00; text-decoration-color: #00af00\">128</span>)         │             <span style=\"color: #00af00; text-decoration-color: #00af00\">512</span> │\n",
       "│ (<span style=\"color: #0087ff; text-decoration-color: #0087ff\">BatchNormalization</span>)                 │                             │                 │\n",
       "├──────────────────────────────────────┼─────────────────────────────┼─────────────────┤\n",
       "│ max_pooling2d_36 (<span style=\"color: #0087ff; text-decoration-color: #0087ff\">MaxPooling2D</span>)      │ (<span style=\"color: #00d7ff; text-decoration-color: #00d7ff\">None</span>, <span style=\"color: #00af00; text-decoration-color: #00af00\">9</span>, <span style=\"color: #00af00; text-decoration-color: #00af00\">21</span>, <span style=\"color: #00af00; text-decoration-color: #00af00\">128</span>)          │               <span style=\"color: #00af00; text-decoration-color: #00af00\">0</span> │\n",
       "├──────────────────────────────────────┼─────────────────────────────┼─────────────────┤\n",
       "│ global_average_pooling2d_9           │ (<span style=\"color: #00d7ff; text-decoration-color: #00d7ff\">None</span>, <span style=\"color: #00af00; text-decoration-color: #00af00\">128</span>)                 │               <span style=\"color: #00af00; text-decoration-color: #00af00\">0</span> │\n",
       "│ (<span style=\"color: #0087ff; text-decoration-color: #0087ff\">GlobalAveragePooling2D</span>)             │                             │                 │\n",
       "├──────────────────────────────────────┼─────────────────────────────┼─────────────────┤\n",
       "│ dense_36 (<span style=\"color: #0087ff; text-decoration-color: #0087ff\">Dense</span>)                     │ (<span style=\"color: #00d7ff; text-decoration-color: #00d7ff\">None</span>, <span style=\"color: #00af00; text-decoration-color: #00af00\">256</span>)                 │          <span style=\"color: #00af00; text-decoration-color: #00af00\">33,024</span> │\n",
       "├──────────────────────────────────────┼─────────────────────────────┼─────────────────┤\n",
       "│ batch_normalization_48               │ (<span style=\"color: #00d7ff; text-decoration-color: #00d7ff\">None</span>, <span style=\"color: #00af00; text-decoration-color: #00af00\">256</span>)                 │           <span style=\"color: #00af00; text-decoration-color: #00af00\">1,024</span> │\n",
       "│ (<span style=\"color: #0087ff; text-decoration-color: #0087ff\">BatchNormalization</span>)                 │                             │                 │\n",
       "├──────────────────────────────────────┼─────────────────────────────┼─────────────────┤\n",
       "│ dense_37 (<span style=\"color: #0087ff; text-decoration-color: #0087ff\">Dense</span>)                     │ (<span style=\"color: #00d7ff; text-decoration-color: #00d7ff\">None</span>, <span style=\"color: #00af00; text-decoration-color: #00af00\">128</span>)                 │          <span style=\"color: #00af00; text-decoration-color: #00af00\">32,896</span> │\n",
       "├──────────────────────────────────────┼─────────────────────────────┼─────────────────┤\n",
       "│ batch_normalization_49               │ (<span style=\"color: #00d7ff; text-decoration-color: #00d7ff\">None</span>, <span style=\"color: #00af00; text-decoration-color: #00af00\">128</span>)                 │             <span style=\"color: #00af00; text-decoration-color: #00af00\">512</span> │\n",
       "│ (<span style=\"color: #0087ff; text-decoration-color: #0087ff\">BatchNormalization</span>)                 │                             │                 │\n",
       "├──────────────────────────────────────┼─────────────────────────────┼─────────────────┤\n",
       "│ dense_38 (<span style=\"color: #0087ff; text-decoration-color: #0087ff\">Dense</span>)                     │ (<span style=\"color: #00d7ff; text-decoration-color: #00d7ff\">None</span>, <span style=\"color: #00af00; text-decoration-color: #00af00\">8</span>)                   │           <span style=\"color: #00af00; text-decoration-color: #00af00\">1,032</span> │\n",
       "└──────────────────────────────────────┴─────────────────────────────┴─────────────────┘\n",
       "</pre>\n"
      ],
      "text/plain": [
       "┏━━━━━━━━━━━━━━━━━━━━━━━━━━━━━━━━━━━━━━┳━━━━━━━━━━━━━━━━━━━━━━━━━━━━━┳━━━━━━━━━━━━━━━━━┓\n",
       "┃\u001b[1m \u001b[0m\u001b[1mLayer (type)                        \u001b[0m\u001b[1m \u001b[0m┃\u001b[1m \u001b[0m\u001b[1mOutput Shape               \u001b[0m\u001b[1m \u001b[0m┃\u001b[1m \u001b[0m\u001b[1m        Param #\u001b[0m\u001b[1m \u001b[0m┃\n",
       "┡━━━━━━━━━━━━━━━━━━━━━━━━━━━━━━━━━━━━━━╇━━━━━━━━━━━━━━━━━━━━━━━━━━━━━╇━━━━━━━━━━━━━━━━━┩\n",
       "│ input_layer_12 (\u001b[38;5;33mInputLayer\u001b[0m)          │ (\u001b[38;5;45mNone\u001b[0m, \u001b[38;5;34m77\u001b[0m, \u001b[38;5;34m174\u001b[0m, \u001b[38;5;34m1\u001b[0m)          │               \u001b[38;5;34m0\u001b[0m │\n",
       "├──────────────────────────────────────┼─────────────────────────────┼─────────────────┤\n",
       "│ conv2d_64 (\u001b[38;5;33mConv2D\u001b[0m)                   │ (\u001b[38;5;45mNone\u001b[0m, \u001b[38;5;34m77\u001b[0m, \u001b[38;5;34m174\u001b[0m, \u001b[38;5;34m32\u001b[0m)         │             \u001b[38;5;34m320\u001b[0m │\n",
       "├──────────────────────────────────────┼─────────────────────────────┼─────────────────┤\n",
       "│ batch_normalization_45               │ (\u001b[38;5;45mNone\u001b[0m, \u001b[38;5;34m77\u001b[0m, \u001b[38;5;34m174\u001b[0m, \u001b[38;5;34m32\u001b[0m)         │             \u001b[38;5;34m128\u001b[0m │\n",
       "│ (\u001b[38;5;33mBatchNormalization\u001b[0m)                 │                             │                 │\n",
       "├──────────────────────────────────────┼─────────────────────────────┼─────────────────┤\n",
       "│ conv2d_65 (\u001b[38;5;33mConv2D\u001b[0m)                   │ (\u001b[38;5;45mNone\u001b[0m, \u001b[38;5;34m77\u001b[0m, \u001b[38;5;34m174\u001b[0m, \u001b[38;5;34m32\u001b[0m)         │           \u001b[38;5;34m9,248\u001b[0m │\n",
       "├──────────────────────────────────────┼─────────────────────────────┼─────────────────┤\n",
       "│ max_pooling2d_34 (\u001b[38;5;33mMaxPooling2D\u001b[0m)      │ (\u001b[38;5;45mNone\u001b[0m, \u001b[38;5;34m38\u001b[0m, \u001b[38;5;34m87\u001b[0m, \u001b[38;5;34m32\u001b[0m)          │               \u001b[38;5;34m0\u001b[0m │\n",
       "├──────────────────────────────────────┼─────────────────────────────┼─────────────────┤\n",
       "│ conv2d_66 (\u001b[38;5;33mConv2D\u001b[0m)                   │ (\u001b[38;5;45mNone\u001b[0m, \u001b[38;5;34m38\u001b[0m, \u001b[38;5;34m87\u001b[0m, \u001b[38;5;34m64\u001b[0m)          │          \u001b[38;5;34m18,496\u001b[0m │\n",
       "├──────────────────────────────────────┼─────────────────────────────┼─────────────────┤\n",
       "│ batch_normalization_46               │ (\u001b[38;5;45mNone\u001b[0m, \u001b[38;5;34m38\u001b[0m, \u001b[38;5;34m87\u001b[0m, \u001b[38;5;34m64\u001b[0m)          │             \u001b[38;5;34m256\u001b[0m │\n",
       "│ (\u001b[38;5;33mBatchNormalization\u001b[0m)                 │                             │                 │\n",
       "├──────────────────────────────────────┼─────────────────────────────┼─────────────────┤\n",
       "│ conv2d_67 (\u001b[38;5;33mConv2D\u001b[0m)                   │ (\u001b[38;5;45mNone\u001b[0m, \u001b[38;5;34m38\u001b[0m, \u001b[38;5;34m87\u001b[0m, \u001b[38;5;34m64\u001b[0m)          │          \u001b[38;5;34m36,928\u001b[0m │\n",
       "├──────────────────────────────────────┼─────────────────────────────┼─────────────────┤\n",
       "│ max_pooling2d_35 (\u001b[38;5;33mMaxPooling2D\u001b[0m)      │ (\u001b[38;5;45mNone\u001b[0m, \u001b[38;5;34m19\u001b[0m, \u001b[38;5;34m43\u001b[0m, \u001b[38;5;34m64\u001b[0m)          │               \u001b[38;5;34m0\u001b[0m │\n",
       "├──────────────────────────────────────┼─────────────────────────────┼─────────────────┤\n",
       "│ conv2d_68 (\u001b[38;5;33mConv2D\u001b[0m)                   │ (\u001b[38;5;45mNone\u001b[0m, \u001b[38;5;34m19\u001b[0m, \u001b[38;5;34m43\u001b[0m, \u001b[38;5;34m128\u001b[0m)         │          \u001b[38;5;34m73,856\u001b[0m │\n",
       "├──────────────────────────────────────┼─────────────────────────────┼─────────────────┤\n",
       "│ conv2d_69 (\u001b[38;5;33mConv2D\u001b[0m)                   │ (\u001b[38;5;45mNone\u001b[0m, \u001b[38;5;34m19\u001b[0m, \u001b[38;5;34m43\u001b[0m, \u001b[38;5;34m128\u001b[0m)         │         \u001b[38;5;34m147,584\u001b[0m │\n",
       "├──────────────────────────────────────┼─────────────────────────────┼─────────────────┤\n",
       "│ batch_normalization_47               │ (\u001b[38;5;45mNone\u001b[0m, \u001b[38;5;34m19\u001b[0m, \u001b[38;5;34m43\u001b[0m, \u001b[38;5;34m128\u001b[0m)         │             \u001b[38;5;34m512\u001b[0m │\n",
       "│ (\u001b[38;5;33mBatchNormalization\u001b[0m)                 │                             │                 │\n",
       "├──────────────────────────────────────┼─────────────────────────────┼─────────────────┤\n",
       "│ max_pooling2d_36 (\u001b[38;5;33mMaxPooling2D\u001b[0m)      │ (\u001b[38;5;45mNone\u001b[0m, \u001b[38;5;34m9\u001b[0m, \u001b[38;5;34m21\u001b[0m, \u001b[38;5;34m128\u001b[0m)          │               \u001b[38;5;34m0\u001b[0m │\n",
       "├──────────────────────────────────────┼─────────────────────────────┼─────────────────┤\n",
       "│ global_average_pooling2d_9           │ (\u001b[38;5;45mNone\u001b[0m, \u001b[38;5;34m128\u001b[0m)                 │               \u001b[38;5;34m0\u001b[0m │\n",
       "│ (\u001b[38;5;33mGlobalAveragePooling2D\u001b[0m)             │                             │                 │\n",
       "├──────────────────────────────────────┼─────────────────────────────┼─────────────────┤\n",
       "│ dense_36 (\u001b[38;5;33mDense\u001b[0m)                     │ (\u001b[38;5;45mNone\u001b[0m, \u001b[38;5;34m256\u001b[0m)                 │          \u001b[38;5;34m33,024\u001b[0m │\n",
       "├──────────────────────────────────────┼─────────────────────────────┼─────────────────┤\n",
       "│ batch_normalization_48               │ (\u001b[38;5;45mNone\u001b[0m, \u001b[38;5;34m256\u001b[0m)                 │           \u001b[38;5;34m1,024\u001b[0m │\n",
       "│ (\u001b[38;5;33mBatchNormalization\u001b[0m)                 │                             │                 │\n",
       "├──────────────────────────────────────┼─────────────────────────────┼─────────────────┤\n",
       "│ dense_37 (\u001b[38;5;33mDense\u001b[0m)                     │ (\u001b[38;5;45mNone\u001b[0m, \u001b[38;5;34m128\u001b[0m)                 │          \u001b[38;5;34m32,896\u001b[0m │\n",
       "├──────────────────────────────────────┼─────────────────────────────┼─────────────────┤\n",
       "│ batch_normalization_49               │ (\u001b[38;5;45mNone\u001b[0m, \u001b[38;5;34m128\u001b[0m)                 │             \u001b[38;5;34m512\u001b[0m │\n",
       "│ (\u001b[38;5;33mBatchNormalization\u001b[0m)                 │                             │                 │\n",
       "├──────────────────────────────────────┼─────────────────────────────┼─────────────────┤\n",
       "│ dense_38 (\u001b[38;5;33mDense\u001b[0m)                     │ (\u001b[38;5;45mNone\u001b[0m, \u001b[38;5;34m8\u001b[0m)                   │           \u001b[38;5;34m1,032\u001b[0m │\n",
       "└──────────────────────────────────────┴─────────────────────────────┴─────────────────┘\n"
      ]
     },
     "metadata": {},
     "output_type": "display_data"
    },
    {
     "data": {
      "text/html": [
       "<pre style=\"white-space:pre;overflow-x:auto;line-height:normal;font-family:Menlo,'DejaVu Sans Mono',consolas,'Courier New',monospace\"><span style=\"font-weight: bold\"> Total params: </span><span style=\"color: #00af00; text-decoration-color: #00af00\">355,816</span> (1.36 MB)\n",
       "</pre>\n"
      ],
      "text/plain": [
       "\u001b[1m Total params: \u001b[0m\u001b[38;5;34m355,816\u001b[0m (1.36 MB)\n"
      ]
     },
     "metadata": {},
     "output_type": "display_data"
    },
    {
     "data": {
      "text/html": [
       "<pre style=\"white-space:pre;overflow-x:auto;line-height:normal;font-family:Menlo,'DejaVu Sans Mono',consolas,'Courier New',monospace\"><span style=\"font-weight: bold\"> Trainable params: </span><span style=\"color: #00af00; text-decoration-color: #00af00\">354,600</span> (1.35 MB)\n",
       "</pre>\n"
      ],
      "text/plain": [
       "\u001b[1m Trainable params: \u001b[0m\u001b[38;5;34m354,600\u001b[0m (1.35 MB)\n"
      ]
     },
     "metadata": {},
     "output_type": "display_data"
    },
    {
     "data": {
      "text/html": [
       "<pre style=\"white-space:pre;overflow-x:auto;line-height:normal;font-family:Menlo,'DejaVu Sans Mono',consolas,'Courier New',monospace\"><span style=\"font-weight: bold\"> Non-trainable params: </span><span style=\"color: #00af00; text-decoration-color: #00af00\">1,216</span> (4.75 KB)\n",
       "</pre>\n"
      ],
      "text/plain": [
       "\u001b[1m Non-trainable params: \u001b[0m\u001b[38;5;34m1,216\u001b[0m (4.75 KB)\n"
      ]
     },
     "metadata": {},
     "output_type": "display_data"
    }
   ],
   "source": [
    "# Use a lower learning rate with the Adam optimizer\n",
    "optimizer = Adam(learning_rate=0.001)\n",
    "model.compile(\n",
    "    loss='sparse_categorical_crossentropy',\n",
    "    optimizer=optimizer,\n",
    "    metrics=['accuracy']\n",
    ")\n",
    "\n",
    "model.summary()"
   ]
  },
  {
   "cell_type": "code",
   "execution_count": 92,
   "metadata": {
    "execution": {
     "iopub.execute_input": "2025-06-24T10:18:55.434317Z",
     "iopub.status.busy": "2025-06-24T10:18:55.433663Z",
     "iopub.status.idle": "2025-06-24T10:18:55.438366Z",
     "shell.execute_reply": "2025-06-24T10:18:55.437719Z",
     "shell.execute_reply.started": "2025-06-24T10:18:55.434290Z"
    },
    "trusted": true
   },
   "outputs": [],
   "source": [
    "callbacks = [\n",
    "    EarlyStopping(\n",
    "        monitor='val_accuracy',\n",
    "        patience=15,\n",
    "        restore_best_weights=True,\n",
    "        verbose=1\n",
    "    ),\n",
    "    ReduceLROnPlateau(\n",
    "        monitor='val_loss',\n",
    "        factor=0.5,\n",
    "        patience=7,\n",
    "        min_lr=1e-7,\n",
    "        verbose=1\n",
    "    ),\n",
    "    ModelCheckpoint(\n",
    "        \"best_emotion_model.h5\",\n",
    "        monitor='val_accuracy',\n",
    "        save_best_only=True,\n",
    "        verbose=1\n",
    "    )\n",
    "]"
   ]
  },
  {
   "cell_type": "code",
   "execution_count": 93,
   "metadata": {
    "execution": {
     "iopub.execute_input": "2025-06-24T10:18:57.210195Z",
     "iopub.status.busy": "2025-06-24T10:18:57.209636Z",
     "iopub.status.idle": "2025-06-24T10:22:55.001474Z",
     "shell.execute_reply": "2025-06-24T10:22:55.000913Z",
     "shell.execute_reply.started": "2025-06-24T10:18:57.210173Z"
    },
    "trusted": true
   },
   "outputs": [
    {
     "name": "stdout",
     "output_type": "stream",
     "text": [
      "Training the model...\n",
      "Epoch 1/100\n",
      "\u001b[1m368/368\u001b[0m \u001b[32m━━━━━━━━━━━━━━━━━━━━\u001b[0m\u001b[37m\u001b[0m \u001b[1m0s\u001b[0m 18ms/step - accuracy: 0.2621 - loss: 2.2597\n",
      "Epoch 1: val_accuracy improved from -inf to 0.15275, saving model to best_emotion_model.h5\n",
      "\u001b[1m368/368\u001b[0m \u001b[32m━━━━━━━━━━━━━━━━━━━━\u001b[0m\u001b[37m\u001b[0m \u001b[1m16s\u001b[0m 22ms/step - accuracy: 0.2623 - loss: 2.2591 - val_accuracy: 0.1527 - val_loss: 3.1670 - learning_rate: 0.0010\n",
      "Epoch 2/100\n",
      "\u001b[1m366/368\u001b[0m \u001b[32m━━━━━━━━━━━━━━━━━━━\u001b[0m\u001b[37m━\u001b[0m \u001b[1m0s\u001b[0m 11ms/step - accuracy: 0.4303 - loss: 1.7005\n",
      "Epoch 2: val_accuracy improved from 0.15275 to 0.19348, saving model to best_emotion_model.h5\n",
      "\u001b[1m368/368\u001b[0m \u001b[32m━━━━━━━━━━━━━━━━━━━━\u001b[0m\u001b[37m\u001b[0m \u001b[1m4s\u001b[0m 12ms/step - accuracy: 0.4305 - loss: 1.7000 - val_accuracy: 0.1935 - val_loss: 6.5159 - learning_rate: 0.0010\n",
      "Epoch 3/100\n",
      "\u001b[1m365/368\u001b[0m \u001b[32m━━━━━━━━━━━━━━━━━━━\u001b[0m\u001b[37m━\u001b[0m \u001b[1m0s\u001b[0m 11ms/step - accuracy: 0.5244 - loss: 1.4697\n",
      "Epoch 3: val_accuracy improved from 0.19348 to 0.21589, saving model to best_emotion_model.h5\n",
      "\u001b[1m368/368\u001b[0m \u001b[32m━━━━━━━━━━━━━━━━━━━━\u001b[0m\u001b[37m\u001b[0m \u001b[1m4s\u001b[0m 12ms/step - accuracy: 0.5247 - loss: 1.4692 - val_accuracy: 0.2159 - val_loss: 7.9788 - learning_rate: 0.0010\n",
      "Epoch 4/100\n",
      "\u001b[1m366/368\u001b[0m \u001b[32m━━━━━━━━━━━━━━━━━━━\u001b[0m\u001b[37m━\u001b[0m \u001b[1m0s\u001b[0m 11ms/step - accuracy: 0.6428 - loss: 1.1607\n",
      "Epoch 4: val_accuracy improved from 0.21589 to 0.34216, saving model to best_emotion_model.h5\n",
      "\u001b[1m368/368\u001b[0m \u001b[32m━━━━━━━━━━━━━━━━━━━━\u001b[0m\u001b[37m\u001b[0m \u001b[1m4s\u001b[0m 12ms/step - accuracy: 0.6430 - loss: 1.1604 - val_accuracy: 0.3422 - val_loss: 6.7398 - learning_rate: 0.0010\n",
      "Epoch 5/100\n",
      "\u001b[1m366/368\u001b[0m \u001b[32m━━━━━━━━━━━━━━━━━━━\u001b[0m\u001b[37m━\u001b[0m \u001b[1m0s\u001b[0m 11ms/step - accuracy: 0.7146 - loss: 0.9550\n",
      "Epoch 5: val_accuracy did not improve from 0.34216\n",
      "\u001b[1m368/368\u001b[0m \u001b[32m━━━━━━━━━━━━━━━━━━━━\u001b[0m\u001b[37m\u001b[0m \u001b[1m4s\u001b[0m 12ms/step - accuracy: 0.7147 - loss: 0.9548 - val_accuracy: 0.0835 - val_loss: 7.9935 - learning_rate: 0.0010\n",
      "Epoch 6/100\n",
      "\u001b[1m366/368\u001b[0m \u001b[32m━━━━━━━━━━━━━━━━━━━\u001b[0m\u001b[37m━\u001b[0m \u001b[1m0s\u001b[0m 11ms/step - accuracy: 0.7693 - loss: 0.7787\n",
      "Epoch 6: val_accuracy did not improve from 0.34216\n",
      "\u001b[1m368/368\u001b[0m \u001b[32m━━━━━━━━━━━━━━━━━━━━\u001b[0m\u001b[37m\u001b[0m \u001b[1m4s\u001b[0m 12ms/step - accuracy: 0.7694 - loss: 0.7784 - val_accuracy: 0.3116 - val_loss: 8.0354 - learning_rate: 0.0010\n",
      "Epoch 7/100\n",
      "\u001b[1m366/368\u001b[0m \u001b[32m━━━━━━━━━━━━━━━━━━━\u001b[0m\u001b[37m━\u001b[0m \u001b[1m0s\u001b[0m 11ms/step - accuracy: 0.8060 - loss: 0.6630\n",
      "Epoch 7: val_accuracy did not improve from 0.34216\n",
      "\u001b[1m368/368\u001b[0m \u001b[32m━━━━━━━━━━━━━━━━━━━━\u001b[0m\u001b[37m\u001b[0m \u001b[1m4s\u001b[0m 12ms/step - accuracy: 0.8062 - loss: 0.6627 - val_accuracy: 0.1527 - val_loss: 11.8375 - learning_rate: 0.0010\n",
      "Epoch 8/100\n",
      "\u001b[1m366/368\u001b[0m \u001b[32m━━━━━━━━━━━━━━━━━━━\u001b[0m\u001b[37m━\u001b[0m \u001b[1m0s\u001b[0m 11ms/step - accuracy: 0.8567 - loss: 0.5288\n",
      "Epoch 8: ReduceLROnPlateau reducing learning rate to 0.0005000000237487257.\n",
      "\n",
      "Epoch 8: val_accuracy did not improve from 0.34216\n",
      "\u001b[1m368/368\u001b[0m \u001b[32m━━━━━━━━━━━━━━━━━━━━\u001b[0m\u001b[37m\u001b[0m \u001b[1m4s\u001b[0m 12ms/step - accuracy: 0.8567 - loss: 0.5289 - val_accuracy: 0.3198 - val_loss: 4.3677 - learning_rate: 0.0010\n",
      "Epoch 9/100\n",
      "\u001b[1m366/368\u001b[0m \u001b[32m━━━━━━━━━━━━━━━━━━━\u001b[0m\u001b[37m━\u001b[0m \u001b[1m0s\u001b[0m 11ms/step - accuracy: 0.9133 - loss: 0.3555\n",
      "Epoch 9: val_accuracy improved from 0.34216 to 0.68228, saving model to best_emotion_model.h5\n",
      "\u001b[1m368/368\u001b[0m \u001b[32m━━━━━━━━━━━━━━━━━━━━\u001b[0m\u001b[37m\u001b[0m \u001b[1m4s\u001b[0m 12ms/step - accuracy: 0.9134 - loss: 0.3553 - val_accuracy: 0.6823 - val_loss: 1.2496 - learning_rate: 5.0000e-04\n",
      "Epoch 10/100\n",
      "\u001b[1m368/368\u001b[0m \u001b[32m━━━━━━━━━━━━━━━━━━━━\u001b[0m\u001b[37m\u001b[0m \u001b[1m0s\u001b[0m 11ms/step - accuracy: 0.9372 - loss: 0.2694\n",
      "Epoch 10: val_accuracy did not improve from 0.68228\n",
      "\u001b[1m368/368\u001b[0m \u001b[32m━━━━━━━━━━━━━━━━━━━━\u001b[0m\u001b[37m\u001b[0m \u001b[1m4s\u001b[0m 12ms/step - accuracy: 0.9372 - loss: 0.2694 - val_accuracy: 0.3198 - val_loss: 5.5170 - learning_rate: 5.0000e-04\n",
      "Epoch 11/100\n",
      "\u001b[1m366/368\u001b[0m \u001b[32m━━━━━━━━━━━━━━━━━━━\u001b[0m\u001b[37m━\u001b[0m \u001b[1m0s\u001b[0m 11ms/step - accuracy: 0.9569 - loss: 0.2230\n",
      "Epoch 11: val_accuracy did not improve from 0.68228\n",
      "\u001b[1m368/368\u001b[0m \u001b[32m━━━━━━━━━━━━━━━━━━━━\u001b[0m\u001b[37m\u001b[0m \u001b[1m4s\u001b[0m 12ms/step - accuracy: 0.9569 - loss: 0.2231 - val_accuracy: 0.5051 - val_loss: 3.2632 - learning_rate: 5.0000e-04\n",
      "Epoch 12/100\n",
      "\u001b[1m366/368\u001b[0m \u001b[32m━━━━━━━━━━━━━━━━━━━\u001b[0m\u001b[37m━\u001b[0m \u001b[1m0s\u001b[0m 11ms/step - accuracy: 0.9623 - loss: 0.1906\n",
      "Epoch 12: val_accuracy did not improve from 0.68228\n",
      "\u001b[1m368/368\u001b[0m \u001b[32m━━━━━━━━━━━━━━━━━━━━\u001b[0m\u001b[37m\u001b[0m \u001b[1m4s\u001b[0m 12ms/step - accuracy: 0.9622 - loss: 0.1907 - val_accuracy: 0.6130 - val_loss: 1.4746 - learning_rate: 5.0000e-04\n",
      "Epoch 13/100\n",
      "\u001b[1m366/368\u001b[0m \u001b[32m━━━━━━━━━━━━━━━━━━━\u001b[0m\u001b[37m━\u001b[0m \u001b[1m0s\u001b[0m 11ms/step - accuracy: 0.9626 - loss: 0.1832\n",
      "Epoch 13: val_accuracy did not improve from 0.68228\n",
      "\u001b[1m368/368\u001b[0m \u001b[32m━━━━━━━━━━━━━━━━━━━━\u001b[0m\u001b[37m\u001b[0m \u001b[1m4s\u001b[0m 12ms/step - accuracy: 0.9626 - loss: 0.1831 - val_accuracy: 0.5743 - val_loss: 1.9618 - learning_rate: 5.0000e-04\n",
      "Epoch 14/100\n",
      "\u001b[1m366/368\u001b[0m \u001b[32m━━━━━━━━━━━━━━━━━━━\u001b[0m\u001b[37m━\u001b[0m \u001b[1m0s\u001b[0m 11ms/step - accuracy: 0.9629 - loss: 0.1771\n",
      "Epoch 14: val_accuracy did not improve from 0.68228\n",
      "\u001b[1m368/368\u001b[0m \u001b[32m━━━━━━━━━━━━━━━━━━━━\u001b[0m\u001b[37m\u001b[0m \u001b[1m4s\u001b[0m 12ms/step - accuracy: 0.9629 - loss: 0.1771 - val_accuracy: 0.3157 - val_loss: 8.2172 - learning_rate: 5.0000e-04\n",
      "Epoch 15/100\n",
      "\u001b[1m366/368\u001b[0m \u001b[32m━━━━━━━━━━━━━━━━━━━\u001b[0m\u001b[37m━\u001b[0m \u001b[1m0s\u001b[0m 11ms/step - accuracy: 0.9694 - loss: 0.1460\n",
      "Epoch 15: val_accuracy did not improve from 0.68228\n",
      "\u001b[1m368/368\u001b[0m \u001b[32m━━━━━━━━━━━━━━━━━━━━\u001b[0m\u001b[37m\u001b[0m \u001b[1m4s\u001b[0m 12ms/step - accuracy: 0.9694 - loss: 0.1460 - val_accuracy: 0.5438 - val_loss: 2.9923 - learning_rate: 5.0000e-04\n",
      "Epoch 16/100\n",
      "\u001b[1m366/368\u001b[0m \u001b[32m━━━━━━━━━━━━━━━━━━━\u001b[0m\u001b[37m━\u001b[0m \u001b[1m0s\u001b[0m 11ms/step - accuracy: 0.9639 - loss: 0.1626\n",
      "Epoch 16: ReduceLROnPlateau reducing learning rate to 0.0002500000118743628.\n",
      "\n",
      "Epoch 16: val_accuracy did not improve from 0.68228\n",
      "\u001b[1m368/368\u001b[0m \u001b[32m━━━━━━━━━━━━━━━━━━━━\u001b[0m\u001b[37m\u001b[0m \u001b[1m4s\u001b[0m 12ms/step - accuracy: 0.9640 - loss: 0.1626 - val_accuracy: 0.6130 - val_loss: 2.1548 - learning_rate: 5.0000e-04\n",
      "Epoch 17/100\n",
      "\u001b[1m366/368\u001b[0m \u001b[32m━━━━━━━━━━━━━━━━━━━\u001b[0m\u001b[37m━\u001b[0m \u001b[1m0s\u001b[0m 11ms/step - accuracy: 0.9903 - loss: 0.0843\n",
      "Epoch 17: val_accuracy improved from 0.68228 to 0.80244, saving model to best_emotion_model.h5\n",
      "\u001b[1m368/368\u001b[0m \u001b[32m━━━━━━━━━━━━━━━━━━━━\u001b[0m\u001b[37m\u001b[0m \u001b[1m4s\u001b[0m 12ms/step - accuracy: 0.9903 - loss: 0.0843 - val_accuracy: 0.8024 - val_loss: 0.7962 - learning_rate: 2.5000e-04\n",
      "Epoch 18/100\n",
      "\u001b[1m364/368\u001b[0m \u001b[32m━━━━━━━━━━━━━━━━━━━\u001b[0m\u001b[37m━\u001b[0m \u001b[1m0s\u001b[0m 11ms/step - accuracy: 0.9963 - loss: 0.0631\n",
      "Epoch 18: val_accuracy improved from 0.80244 to 0.82281, saving model to best_emotion_model.h5\n",
      "\u001b[1m368/368\u001b[0m \u001b[32m━━━━━━━━━━━━━━━━━━━━\u001b[0m\u001b[37m\u001b[0m \u001b[1m4s\u001b[0m 12ms/step - accuracy: 0.9963 - loss: 0.0632 - val_accuracy: 0.8228 - val_loss: 0.6427 - learning_rate: 2.5000e-04\n",
      "Epoch 19/100\n",
      "\u001b[1m366/368\u001b[0m \u001b[32m━━━━━━━━━━━━━━━━━━━\u001b[0m\u001b[37m━\u001b[0m \u001b[1m0s\u001b[0m 11ms/step - accuracy: 0.9940 - loss: 0.0687\n",
      "Epoch 19: val_accuracy improved from 0.82281 to 0.83910, saving model to best_emotion_model.h5\n",
      "\u001b[1m368/368\u001b[0m \u001b[32m━━━━━━━━━━━━━━━━━━━━\u001b[0m\u001b[37m\u001b[0m \u001b[1m4s\u001b[0m 12ms/step - accuracy: 0.9940 - loss: 0.0686 - val_accuracy: 0.8391 - val_loss: 0.5933 - learning_rate: 2.5000e-04\n",
      "Epoch 20/100\n",
      "\u001b[1m366/368\u001b[0m \u001b[32m━━━━━━━━━━━━━━━━━━━\u001b[0m\u001b[37m━\u001b[0m \u001b[1m0s\u001b[0m 11ms/step - accuracy: 0.9933 - loss: 0.0637\n",
      "Epoch 20: val_accuracy did not improve from 0.83910\n",
      "\u001b[1m368/368\u001b[0m \u001b[32m━━━━━━━━━━━━━━━━━━━━\u001b[0m\u001b[37m\u001b[0m \u001b[1m4s\u001b[0m 12ms/step - accuracy: 0.9934 - loss: 0.0637 - val_accuracy: 0.8004 - val_loss: 0.9409 - learning_rate: 2.5000e-04\n",
      "Epoch 21/100\n",
      "\u001b[1m366/368\u001b[0m \u001b[32m━━━━━━━━━━━━━━━━━━━\u001b[0m\u001b[37m━\u001b[0m \u001b[1m0s\u001b[0m 11ms/step - accuracy: 0.9982 - loss: 0.0489\n",
      "Epoch 21: val_accuracy did not improve from 0.83910\n",
      "\u001b[1m368/368\u001b[0m \u001b[32m━━━━━━━━━━━━━━━━━━━━\u001b[0m\u001b[37m\u001b[0m \u001b[1m4s\u001b[0m 12ms/step - accuracy: 0.9982 - loss: 0.0489 - val_accuracy: 0.8289 - val_loss: 0.7546 - learning_rate: 2.5000e-04\n",
      "Epoch 22/100\n",
      "\u001b[1m366/368\u001b[0m \u001b[32m━━━━━━━━━━━━━━━━━━━\u001b[0m\u001b[37m━\u001b[0m \u001b[1m0s\u001b[0m 11ms/step - accuracy: 0.9952 - loss: 0.0556\n",
      "Epoch 22: val_accuracy did not improve from 0.83910\n",
      "\u001b[1m368/368\u001b[0m \u001b[32m━━━━━━━━━━━━━━━━━━━━\u001b[0m\u001b[37m\u001b[0m \u001b[1m4s\u001b[0m 12ms/step - accuracy: 0.9952 - loss: 0.0555 - val_accuracy: 0.8391 - val_loss: 0.6312 - learning_rate: 2.5000e-04\n",
      "Epoch 23/100\n",
      "\u001b[1m365/368\u001b[0m \u001b[32m━━━━━━━━━━━━━━━━━━━\u001b[0m\u001b[37m━\u001b[0m \u001b[1m0s\u001b[0m 11ms/step - accuracy: 0.9961 - loss: 0.0499\n",
      "Epoch 23: val_accuracy did not improve from 0.83910\n",
      "\u001b[1m368/368\u001b[0m \u001b[32m━━━━━━━━━━━━━━━━━━━━\u001b[0m\u001b[37m\u001b[0m \u001b[1m4s\u001b[0m 12ms/step - accuracy: 0.9961 - loss: 0.0499 - val_accuracy: 0.6130 - val_loss: 2.0878 - learning_rate: 2.5000e-04\n",
      "Epoch 24/100\n",
      "\u001b[1m366/368\u001b[0m \u001b[32m━━━━━━━━━━━━━━━━━━━\u001b[0m\u001b[37m━\u001b[0m \u001b[1m0s\u001b[0m 11ms/step - accuracy: 0.9906 - loss: 0.0617\n",
      "Epoch 24: val_accuracy did not improve from 0.83910\n",
      "\u001b[1m368/368\u001b[0m \u001b[32m━━━━━━━━━━━━━━━━━━━━\u001b[0m\u001b[37m\u001b[0m \u001b[1m4s\u001b[0m 12ms/step - accuracy: 0.9906 - loss: 0.0617 - val_accuracy: 0.7699 - val_loss: 0.9455 - learning_rate: 2.5000e-04\n",
      "Epoch 25/100\n",
      "\u001b[1m365/368\u001b[0m \u001b[32m━━━━━━━━━━━━━━━━━━━\u001b[0m\u001b[37m━\u001b[0m \u001b[1m0s\u001b[0m 11ms/step - accuracy: 0.9945 - loss: 0.0482\n",
      "Epoch 25: val_accuracy did not improve from 0.83910\n",
      "\u001b[1m368/368\u001b[0m \u001b[32m━━━━━━━━━━━━━━━━━━━━\u001b[0m\u001b[37m\u001b[0m \u001b[1m4s\u001b[0m 12ms/step - accuracy: 0.9945 - loss: 0.0482 - val_accuracy: 0.7108 - val_loss: 1.4543 - learning_rate: 2.5000e-04\n",
      "Epoch 26/100\n",
      "\u001b[1m366/368\u001b[0m \u001b[32m━━━━━━━━━━━━━━━━━━━\u001b[0m\u001b[37m━\u001b[0m \u001b[1m0s\u001b[0m 11ms/step - accuracy: 0.9897 - loss: 0.0613\n",
      "Epoch 26: ReduceLROnPlateau reducing learning rate to 0.0001250000059371814.\n",
      "\n",
      "Epoch 26: val_accuracy did not improve from 0.83910\n",
      "\u001b[1m368/368\u001b[0m \u001b[32m━━━━━━━━━━━━━━━━━━━━\u001b[0m\u001b[37m\u001b[0m \u001b[1m4s\u001b[0m 12ms/step - accuracy: 0.9897 - loss: 0.0613 - val_accuracy: 0.6354 - val_loss: 2.3018 - learning_rate: 2.5000e-04\n",
      "Epoch 27/100\n",
      "\u001b[1m366/368\u001b[0m \u001b[32m━━━━━━━━━━━━━━━━━━━\u001b[0m\u001b[37m━\u001b[0m \u001b[1m0s\u001b[0m 11ms/step - accuracy: 0.9952 - loss: 0.0464\n",
      "Epoch 27: val_accuracy improved from 0.83910 to 0.85336, saving model to best_emotion_model.h5\n",
      "\u001b[1m368/368\u001b[0m \u001b[32m━━━━━━━━━━━━━━━━━━━━\u001b[0m\u001b[37m\u001b[0m \u001b[1m4s\u001b[0m 12ms/step - accuracy: 0.9952 - loss: 0.0463 - val_accuracy: 0.8534 - val_loss: 0.5821 - learning_rate: 1.2500e-04\n",
      "Epoch 28/100\n",
      "\u001b[1m366/368\u001b[0m \u001b[32m━━━━━━━━━━━━━━━━━━━\u001b[0m\u001b[37m━\u001b[0m \u001b[1m0s\u001b[0m 11ms/step - accuracy: 0.9988 - loss: 0.0343\n",
      "Epoch 28: val_accuracy did not improve from 0.85336\n",
      "\u001b[1m368/368\u001b[0m \u001b[32m━━━━━━━━━━━━━━━━━━━━\u001b[0m\u001b[37m\u001b[0m \u001b[1m4s\u001b[0m 12ms/step - accuracy: 0.9988 - loss: 0.0343 - val_accuracy: 0.8513 - val_loss: 0.6942 - learning_rate: 1.2500e-04\n",
      "Epoch 29/100\n",
      "\u001b[1m366/368\u001b[0m \u001b[32m━━━━━━━━━━━━━━━━━━━\u001b[0m\u001b[37m━\u001b[0m \u001b[1m0s\u001b[0m 11ms/step - accuracy: 0.9986 - loss: 0.0328\n",
      "Epoch 29: val_accuracy did not improve from 0.85336\n",
      "\u001b[1m368/368\u001b[0m \u001b[32m━━━━━━━━━━━━━━━━━━━━\u001b[0m\u001b[37m\u001b[0m \u001b[1m4s\u001b[0m 12ms/step - accuracy: 0.9986 - loss: 0.0328 - val_accuracy: 0.8391 - val_loss: 0.7374 - learning_rate: 1.2500e-04\n",
      "Epoch 30/100\n",
      "\u001b[1m366/368\u001b[0m \u001b[32m━━━━━━━━━━━━━━━━━━━\u001b[0m\u001b[37m━\u001b[0m \u001b[1m0s\u001b[0m 11ms/step - accuracy: 0.9990 - loss: 0.0312\n",
      "Epoch 30: val_accuracy did not improve from 0.85336\n",
      "\u001b[1m368/368\u001b[0m \u001b[32m━━━━━━━━━━━━━━━━━━━━\u001b[0m\u001b[37m\u001b[0m \u001b[1m4s\u001b[0m 12ms/step - accuracy: 0.9990 - loss: 0.0312 - val_accuracy: 0.8330 - val_loss: 0.7076 - learning_rate: 1.2500e-04\n",
      "Epoch 31/100\n",
      "\u001b[1m366/368\u001b[0m \u001b[32m━━━━━━━━━━━━━━━━━━━\u001b[0m\u001b[37m━\u001b[0m \u001b[1m0s\u001b[0m 11ms/step - accuracy: 0.9982 - loss: 0.0318\n",
      "Epoch 31: val_accuracy did not improve from 0.85336\n",
      "\u001b[1m368/368\u001b[0m \u001b[32m━━━━━━━━━━━━━━━━━━━━\u001b[0m\u001b[37m\u001b[0m \u001b[1m4s\u001b[0m 12ms/step - accuracy: 0.9982 - loss: 0.0318 - val_accuracy: 0.8350 - val_loss: 0.7703 - learning_rate: 1.2500e-04\n",
      "Epoch 32/100\n",
      "\u001b[1m365/368\u001b[0m \u001b[32m━━━━━━━━━━━━━━━━━━━\u001b[0m\u001b[37m━\u001b[0m \u001b[1m0s\u001b[0m 11ms/step - accuracy: 0.9965 - loss: 0.0350\n",
      "Epoch 32: val_accuracy did not improve from 0.85336\n",
      "\u001b[1m368/368\u001b[0m \u001b[32m━━━━━━━━━━━━━━━━━━━━\u001b[0m\u001b[37m\u001b[0m \u001b[1m4s\u001b[0m 12ms/step - accuracy: 0.9965 - loss: 0.0349 - val_accuracy: 0.7332 - val_loss: 1.3530 - learning_rate: 1.2500e-04\n",
      "Epoch 33/100\n",
      "\u001b[1m366/368\u001b[0m \u001b[32m━━━━━━━━━━━━━━━━━━━\u001b[0m\u001b[37m━\u001b[0m \u001b[1m0s\u001b[0m 11ms/step - accuracy: 0.9978 - loss: 0.0297\n",
      "Epoch 33: val_accuracy did not improve from 0.85336\n",
      "\u001b[1m368/368\u001b[0m \u001b[32m━━━━━━━━━━━━━━━━━━━━\u001b[0m\u001b[37m\u001b[0m \u001b[1m4s\u001b[0m 12ms/step - accuracy: 0.9978 - loss: 0.0296 - val_accuracy: 0.8310 - val_loss: 0.7835 - learning_rate: 1.2500e-04\n",
      "Epoch 34/100\n",
      "\u001b[1m366/368\u001b[0m \u001b[32m━━━━━━━━━━━━━━━━━━━\u001b[0m\u001b[37m━\u001b[0m \u001b[1m0s\u001b[0m 11ms/step - accuracy: 0.9960 - loss: 0.0326\n",
      "Epoch 34: ReduceLROnPlateau reducing learning rate to 6.25000029685907e-05.\n",
      "\n",
      "Epoch 34: val_accuracy did not improve from 0.85336\n",
      "\u001b[1m368/368\u001b[0m \u001b[32m━━━━━━━━━━━━━━━━━━━━\u001b[0m\u001b[37m\u001b[0m \u001b[1m4s\u001b[0m 12ms/step - accuracy: 0.9960 - loss: 0.0326 - val_accuracy: 0.7841 - val_loss: 0.9306 - learning_rate: 1.2500e-04\n",
      "Epoch 35/100\n",
      "\u001b[1m366/368\u001b[0m \u001b[32m━━━━━━━━━━━━━━━━━━━\u001b[0m\u001b[37m━\u001b[0m \u001b[1m0s\u001b[0m 11ms/step - accuracy: 0.9979 - loss: 0.0274\n",
      "Epoch 35: val_accuracy improved from 0.85336 to 0.87373, saving model to best_emotion_model.h5\n",
      "\u001b[1m368/368\u001b[0m \u001b[32m━━━━━━━━━━━━━━━━━━━━\u001b[0m\u001b[37m\u001b[0m \u001b[1m4s\u001b[0m 12ms/step - accuracy: 0.9979 - loss: 0.0274 - val_accuracy: 0.8737 - val_loss: 0.5360 - learning_rate: 6.2500e-05\n",
      "Epoch 36/100\n",
      "\u001b[1m366/368\u001b[0m \u001b[32m━━━━━━━━━━━━━━━━━━━\u001b[0m\u001b[37m━\u001b[0m \u001b[1m0s\u001b[0m 11ms/step - accuracy: 0.9981 - loss: 0.0273\n",
      "Epoch 36: val_accuracy did not improve from 0.87373\n",
      "\u001b[1m368/368\u001b[0m \u001b[32m━━━━━━━━━━━━━━━━━━━━\u001b[0m\u001b[37m\u001b[0m \u001b[1m4s\u001b[0m 12ms/step - accuracy: 0.9981 - loss: 0.0273 - val_accuracy: 0.8656 - val_loss: 0.6075 - learning_rate: 6.2500e-05\n",
      "Epoch 37/100\n",
      "\u001b[1m366/368\u001b[0m \u001b[32m━━━━━━━━━━━━━━━━━━━\u001b[0m\u001b[37m━\u001b[0m \u001b[1m0s\u001b[0m 11ms/step - accuracy: 1.0000 - loss: 0.0229\n",
      "Epoch 37: val_accuracy improved from 0.87373 to 0.88798, saving model to best_emotion_model.h5\n",
      "\u001b[1m368/368\u001b[0m \u001b[32m━━━━━━━━━━━━━━━━━━━━\u001b[0m\u001b[37m\u001b[0m \u001b[1m4s\u001b[0m 12ms/step - accuracy: 1.0000 - loss: 0.0229 - val_accuracy: 0.8880 - val_loss: 0.5370 - learning_rate: 6.2500e-05\n",
      "Epoch 38/100\n",
      "\u001b[1m366/368\u001b[0m \u001b[32m━━━━━━━━━━━━━━━━━━━\u001b[0m\u001b[37m━\u001b[0m \u001b[1m0s\u001b[0m 11ms/step - accuracy: 1.0000 - loss: 0.0213\n",
      "Epoch 38: val_accuracy did not improve from 0.88798\n",
      "\u001b[1m368/368\u001b[0m \u001b[32m━━━━━━━━━━━━━━━━━━━━\u001b[0m\u001b[37m\u001b[0m \u001b[1m4s\u001b[0m 12ms/step - accuracy: 1.0000 - loss: 0.0213 - val_accuracy: 0.8778 - val_loss: 0.5159 - learning_rate: 6.2500e-05\n",
      "Epoch 39/100\n",
      "\u001b[1m365/368\u001b[0m \u001b[32m━━━━━━━━━━━━━━━━━━━\u001b[0m\u001b[37m━\u001b[0m \u001b[1m0s\u001b[0m 11ms/step - accuracy: 0.9990 - loss: 0.0242\n",
      "Epoch 39: val_accuracy did not improve from 0.88798\n",
      "\u001b[1m368/368\u001b[0m \u001b[32m━━━━━━━━━━━━━━━━━━━━\u001b[0m\u001b[37m\u001b[0m \u001b[1m4s\u001b[0m 12ms/step - accuracy: 0.9990 - loss: 0.0242 - val_accuracy: 0.7617 - val_loss: 1.1001 - learning_rate: 6.2500e-05\n",
      "Epoch 40/100\n",
      "\u001b[1m366/368\u001b[0m \u001b[32m━━━━━━━━━━━━━━━━━━━\u001b[0m\u001b[37m━\u001b[0m \u001b[1m0s\u001b[0m 11ms/step - accuracy: 0.9999 - loss: 0.0222\n",
      "Epoch 40: val_accuracy did not improve from 0.88798\n",
      "\u001b[1m368/368\u001b[0m \u001b[32m━━━━━━━━━━━━━━━━━━━━\u001b[0m\u001b[37m\u001b[0m \u001b[1m4s\u001b[0m 12ms/step - accuracy: 0.9999 - loss: 0.0222 - val_accuracy: 0.8859 - val_loss: 0.5201 - learning_rate: 6.2500e-05\n",
      "Epoch 41/100\n",
      "\u001b[1m366/368\u001b[0m \u001b[32m━━━━━━━━━━━━━━━━━━━\u001b[0m\u001b[37m━\u001b[0m \u001b[1m0s\u001b[0m 11ms/step - accuracy: 0.9996 - loss: 0.0216\n",
      "Epoch 41: val_accuracy did not improve from 0.88798\n",
      "\u001b[1m368/368\u001b[0m \u001b[32m━━━━━━━━━━━━━━━━━━━━\u001b[0m\u001b[37m\u001b[0m \u001b[1m4s\u001b[0m 12ms/step - accuracy: 0.9996 - loss: 0.0216 - val_accuracy: 0.8798 - val_loss: 0.5245 - learning_rate: 6.2500e-05\n",
      "Epoch 42/100\n",
      "\u001b[1m366/368\u001b[0m \u001b[32m━━━━━━━━━━━━━━━━━━━\u001b[0m\u001b[37m━\u001b[0m \u001b[1m0s\u001b[0m 11ms/step - accuracy: 0.9992 - loss: 0.0217\n",
      "Epoch 42: val_accuracy did not improve from 0.88798\n",
      "\u001b[1m368/368\u001b[0m \u001b[32m━━━━━━━━━━━━━━━━━━━━\u001b[0m\u001b[37m\u001b[0m \u001b[1m4s\u001b[0m 12ms/step - accuracy: 0.9992 - loss: 0.0217 - val_accuracy: 0.8106 - val_loss: 0.7748 - learning_rate: 6.2500e-05\n",
      "Epoch 43/100\n",
      "\u001b[1m365/368\u001b[0m \u001b[32m━━━━━━━━━━━━━━━━━━━\u001b[0m\u001b[37m━\u001b[0m \u001b[1m0s\u001b[0m 11ms/step - accuracy: 1.0000 - loss: 0.0196\n",
      "Epoch 43: val_accuracy did not improve from 0.88798\n",
      "\u001b[1m368/368\u001b[0m \u001b[32m━━━━━━━━━━━━━━━━━━━━\u001b[0m\u001b[37m\u001b[0m \u001b[1m4s\u001b[0m 12ms/step - accuracy: 1.0000 - loss: 0.0196 - val_accuracy: 0.8859 - val_loss: 0.5422 - learning_rate: 6.2500e-05\n",
      "Epoch 44/100\n",
      "\u001b[1m366/368\u001b[0m \u001b[32m━━━━━━━━━━━━━━━━━━━\u001b[0m\u001b[37m━\u001b[0m \u001b[1m0s\u001b[0m 11ms/step - accuracy: 0.9996 - loss: 0.0194\n",
      "Epoch 44: val_accuracy did not improve from 0.88798\n",
      "\u001b[1m368/368\u001b[0m \u001b[32m━━━━━━━━━━━━━━━━━━━━\u001b[0m\u001b[37m\u001b[0m \u001b[1m4s\u001b[0m 12ms/step - accuracy: 0.9996 - loss: 0.0194 - val_accuracy: 0.8493 - val_loss: 0.6981 - learning_rate: 6.2500e-05\n",
      "Epoch 45/100\n",
      "\u001b[1m366/368\u001b[0m \u001b[32m━━━━━━━━━━━━━━━━━━━\u001b[0m\u001b[37m━\u001b[0m \u001b[1m0s\u001b[0m 11ms/step - accuracy: 0.9996 - loss: 0.0191\n",
      "Epoch 45: ReduceLROnPlateau reducing learning rate to 3.125000148429535e-05.\n",
      "\n",
      "Epoch 45: val_accuracy did not improve from 0.88798\n",
      "\u001b[1m368/368\u001b[0m \u001b[32m━━━━━━━━━━━━━━━━━━━━\u001b[0m\u001b[37m\u001b[0m \u001b[1m4s\u001b[0m 12ms/step - accuracy: 0.9996 - loss: 0.0191 - val_accuracy: 0.8839 - val_loss: 0.5570 - learning_rate: 6.2500e-05\n",
      "Epoch 46/100\n",
      "\u001b[1m366/368\u001b[0m \u001b[32m━━━━━━━━━━━━━━━━━━━\u001b[0m\u001b[37m━\u001b[0m \u001b[1m0s\u001b[0m 11ms/step - accuracy: 0.9998 - loss: 0.0188\n",
      "Epoch 46: val_accuracy did not improve from 0.88798\n",
      "\u001b[1m368/368\u001b[0m \u001b[32m━━━━━━━━━━━━━━━━━━━━\u001b[0m\u001b[37m\u001b[0m \u001b[1m4s\u001b[0m 12ms/step - accuracy: 0.9998 - loss: 0.0188 - val_accuracy: 0.8676 - val_loss: 0.5619 - learning_rate: 3.1250e-05\n",
      "Epoch 47/100\n",
      "\u001b[1m365/368\u001b[0m \u001b[32m━━━━━━━━━━━━━━━━━━━\u001b[0m\u001b[37m━\u001b[0m \u001b[1m0s\u001b[0m 11ms/step - accuracy: 0.9992 - loss: 0.0187\n",
      "Epoch 47: val_accuracy did not improve from 0.88798\n",
      "\u001b[1m368/368\u001b[0m \u001b[32m━━━━━━━━━━━━━━━━━━━━\u001b[0m\u001b[37m\u001b[0m \u001b[1m4s\u001b[0m 12ms/step - accuracy: 0.9992 - loss: 0.0188 - val_accuracy: 0.8697 - val_loss: 0.5944 - learning_rate: 3.1250e-05\n",
      "Epoch 48/100\n",
      "\u001b[1m366/368\u001b[0m \u001b[32m━━━━━━━━━━━━━━━━━━━\u001b[0m\u001b[37m━\u001b[0m \u001b[1m0s\u001b[0m 11ms/step - accuracy: 0.9989 - loss: 0.0212\n",
      "Epoch 48: val_accuracy did not improve from 0.88798\n",
      "\u001b[1m368/368\u001b[0m \u001b[32m━━━━━━━━━━━━━━━━━━━━\u001b[0m\u001b[37m\u001b[0m \u001b[1m4s\u001b[0m 12ms/step - accuracy: 0.9989 - loss: 0.0212 - val_accuracy: 0.8513 - val_loss: 0.6635 - learning_rate: 3.1250e-05\n",
      "Epoch 49/100\n",
      "\u001b[1m366/368\u001b[0m \u001b[32m━━━━━━━━━━━━━━━━━━━\u001b[0m\u001b[37m━\u001b[0m \u001b[1m0s\u001b[0m 11ms/step - accuracy: 1.0000 - loss: 0.0176\n",
      "Epoch 49: val_accuracy did not improve from 0.88798\n",
      "\u001b[1m368/368\u001b[0m \u001b[32m━━━━━━━━━━━━━━━━━━━━\u001b[0m\u001b[37m\u001b[0m \u001b[1m4s\u001b[0m 12ms/step - accuracy: 1.0000 - loss: 0.0176 - val_accuracy: 0.8819 - val_loss: 0.5553 - learning_rate: 3.1250e-05\n",
      "Epoch 50/100\n",
      "\u001b[1m366/368\u001b[0m \u001b[32m━━━━━━━━━━━━━━━━━━━\u001b[0m\u001b[37m━\u001b[0m \u001b[1m0s\u001b[0m 11ms/step - accuracy: 0.9997 - loss: 0.0183\n",
      "Epoch 50: val_accuracy did not improve from 0.88798\n",
      "\u001b[1m368/368\u001b[0m \u001b[32m━━━━━━━━━━━━━━━━━━━━\u001b[0m\u001b[37m\u001b[0m \u001b[1m4s\u001b[0m 12ms/step - accuracy: 0.9997 - loss: 0.0183 - val_accuracy: 0.8554 - val_loss: 0.6278 - learning_rate: 3.1250e-05\n",
      "Epoch 51/100\n",
      "\u001b[1m366/368\u001b[0m \u001b[32m━━━━━━━━━━━━━━━━━━━\u001b[0m\u001b[37m━\u001b[0m \u001b[1m0s\u001b[0m 11ms/step - accuracy: 0.9997 - loss: 0.0173\n",
      "Epoch 51: val_accuracy did not improve from 0.88798\n",
      "\u001b[1m368/368\u001b[0m \u001b[32m━━━━━━━━━━━━━━━━━━━━\u001b[0m\u001b[37m\u001b[0m \u001b[1m4s\u001b[0m 12ms/step - accuracy: 0.9997 - loss: 0.0173 - val_accuracy: 0.8737 - val_loss: 0.5751 - learning_rate: 3.1250e-05\n",
      "Epoch 52/100\n",
      "\u001b[1m366/368\u001b[0m \u001b[32m━━━━━━━━━━━━━━━━━━━\u001b[0m\u001b[37m━\u001b[0m \u001b[1m0s\u001b[0m 11ms/step - accuracy: 1.0000 - loss: 0.0166\n",
      "Epoch 52: ReduceLROnPlateau reducing learning rate to 1.5625000742147677e-05.\n",
      "\n",
      "Epoch 52: val_accuracy did not improve from 0.88798\n",
      "\u001b[1m368/368\u001b[0m \u001b[32m━━━━━━━━━━━━━━━━━━━━\u001b[0m\u001b[37m\u001b[0m \u001b[1m4s\u001b[0m 12ms/step - accuracy: 1.0000 - loss: 0.0166 - val_accuracy: 0.8819 - val_loss: 0.5488 - learning_rate: 3.1250e-05\n",
      "Epoch 52: early stopping\n",
      "Restoring model weights from the end of the best epoch: 37.\n"
     ]
    }
   ],
   "source": [
    "# Train the model\n",
    "print(\"Training the model...\")\n",
    "history = model.fit(\n",
    "    X_train_aug, y_train_aug,\n",
    "    validation_data=(X_val, y_val),\n",
    "    epochs=100,\n",
    "    batch_size=16, \n",
    "    callbacks=callbacks,\n",
    "    verbose=1\n",
    ")"
   ]
  },
  {
   "cell_type": "code",
   "execution_count": 94,
   "metadata": {
    "execution": {
     "iopub.execute_input": "2025-06-24T10:27:37.794653Z",
     "iopub.status.busy": "2025-06-24T10:27:37.793934Z",
     "iopub.status.idle": "2025-06-24T10:27:39.071380Z",
     "shell.execute_reply": "2025-06-24T10:27:39.070794Z",
     "shell.execute_reply.started": "2025-06-24T10:27:37.794630Z"
    },
    "trusted": true
   },
   "outputs": [
    {
     "name": "stdout",
     "output_type": "stream",
     "text": [
      "\n",
      "Evaluating the model...\n",
      "\u001b[1m16/16\u001b[0m \u001b[32m━━━━━━━━━━━━━━━━━━━━\u001b[0m\u001b[37m\u001b[0m \u001b[1m1s\u001b[0m 41ms/step\n",
      "Validation Accuracy: 0.8880\n",
      "\n",
      "Classification Report:\n",
      "              precision    recall  f1-score   support\n",
      "\n",
      "       angry       0.98      0.87      0.92        75\n",
      "        calm       0.93      0.91      0.92        75\n",
      "     disgust       0.92      0.87      0.89        39\n",
      "     fearful       0.88      0.92      0.90        75\n",
      "       happy       0.87      0.89      0.88        75\n",
      "     neutral       0.76      0.89      0.82        38\n",
      "         sad       0.84      0.83      0.83        75\n",
      "   surprised       0.90      0.95      0.92        39\n",
      "\n",
      "    accuracy                           0.89       491\n",
      "   macro avg       0.89      0.89      0.89       491\n",
      "weighted avg       0.89      0.89      0.89       491\n",
      "\n"
     ]
    }
   ],
   "source": [
    "# Evaluate the model\n",
    "print(\"\\nEvaluating the model...\")\n",
    "y_pred = model.predict(X_val).argmax(axis=1)\n",
    "accuracy = np.mean(y_pred == y_val)\n",
    "print(f\"Validation Accuracy: {accuracy:.4f}\")\n",
    "\n",
    "# Detailed classification report\n",
    "print(\"\\nClassification Report:\")\n",
    "report = classification_report(y_val, y_pred, target_names=le.classes_, output_dict=True)\n",
    "print(classification_report(y_val, y_pred, target_names=le.classes_))"
   ]
  },
  {
   "cell_type": "code",
   "execution_count": null,
   "metadata": {
    "execution": {
     "iopub.execute_input": "2025-06-24T10:28:01.563216Z",
     "iopub.status.busy": "2025-06-24T10:28:01.562762Z",
     "iopub.status.idle": "2025-06-24T10:28:01.870374Z",
     "shell.execute_reply": "2025-06-24T10:28:01.869559Z",
     "shell.execute_reply.started": "2025-06-24T10:28:01.563194Z"
    },
    "trusted": true
   },
   "outputs": [
    {
     "name": "stdout",
     "output_type": "stream",
     "text": [
      "\n",
      "Generating Confusion Matrix...\n"
     ]
    },
    {
     "data": {
      "text/plain": [
       "<Figure size 1000x800 with 0 Axes>"
      ]
     },
     "metadata": {},
     "output_type": "display_data"
    },
    {
     "data": {
      "image/png": "[encoded data removed]",
      "text/plain": [
       "<Figure size 640x480 with 2 Axes>"
      ]
     },
     "metadata": {},
     "output_type": "display_data"
    }
   ],
   "source": [
    "print(\"\\nGenerating Confusion Matrix...\")\n",
    "cm = confusion_matrix(y_val, y_pred)\n",
    "plt.figure(figsize=(10, 8))\n",
    "ConfusionMatrixDisplay(confusion_matrix=cm, display_labels=le.classes_).plot(cmap='Blues')\n",
    "plt.title(\"Validation Confusion Matrix\")\n",
    "plt.xticks(rotation=45)\n",
    "plt.tight_layout()\n",
    "plt.show()"
   ]
  },
  {
   "cell_type": "code",
   "execution_count": 97,
   "metadata": {
    "execution": {
     "iopub.execute_input": "2025-06-24T10:28:06.831190Z",
     "iopub.status.busy": "2025-06-24T10:28:06.830524Z",
     "iopub.status.idle": "2025-06-24T10:28:07.173904Z",
     "shell.execute_reply": "2025-06-24T10:28:07.173105Z",
     "shell.execute_reply.started": "2025-06-24T10:28:06.831169Z"
    },
    "trusted": true
   },
   "outputs": [
    {
     "data": {
      "image/png": "[encoded data removed]",
      "text/plain": [
       "<Figure size 1200x400 with 2 Axes>"
      ]
     },
     "metadata": {},
     "output_type": "display_data"
    }
   ],
   "source": [
    "# Plot training history\n",
    "plt.figure(figsize=(12, 4))\n",
    "\n",
    "plt.subplot(1, 2, 1)\n",
    "plt.plot(history.history['accuracy'], label='Training Accuracy')\n",
    "plt.plot(history.history['val_accuracy'], label='Validation Accuracy')\n",
    "plt.title('Model Accuracy')\n",
    "plt.xlabel('Epoch')\n",
    "plt.ylabel('Accuracy')\n",
    "plt.legend()\n",
    "\n",
    "plt.subplot(1, 2, 2)\n",
    "plt.plot(history.history['loss'], label='Training Loss')\n",
    "plt.plot(history.history['val_loss'], label='Validation Loss')\n",
    "plt.title('Model Loss')\n",
    "plt.xlabel('Epoch')\n",
    "plt.ylabel('Loss')\n",
    "plt.legend()\n",
    "\n",
    "plt.tight_layout()\n",
    "plt.show()"
   ]
  },
  {
   "cell_type": "code",
   "execution_count": 98,
   "metadata": {
    "execution": {
     "iopub.execute_input": "2025-06-24T10:28:10.200034Z",
     "iopub.status.busy": "2025-06-24T10:28:10.199498Z",
     "iopub.status.idle": "2025-06-24T10:28:10.288229Z",
     "shell.execute_reply": "2025-06-24T10:28:10.287588Z",
     "shell.execute_reply.started": "2025-06-24T10:28:10.200013Z"
    },
    "trusted": true
   },
   "outputs": [
    {
     "data": {
      "text/plain": [
       "['label_encoder.pkl']"
      ]
     },
     "execution_count": 98,
     "metadata": {},
     "output_type": "execute_result"
    }
   ],
   "source": [
    "# Save the model and label encoder\n",
    "model.save(\"final_emotion_model.h5\")\n",
    "import joblib\n",
    "joblib.dump(le, \"label_encoder.pkl\")"
   ]
  },
  {
   "cell_type": "code",
   "execution_count": null,
   "metadata": {
    "trusted": true
   },
   "outputs": [],
   "source": []
  }
 ],
 "metadata": {
  "kaggle": {
   "accelerator": "gpu",
   "dataSources": [
    {
     "datasetId": 7712336,
     "sourceId": 12240155,
     "sourceType": "datasetVersion"
    }
   ],
   "dockerImageVersionId": 31040,
   "isGpuEnabled": true,
   "isInternetEnabled": true,
   "language": "python",
   "sourceType": "notebook"
  },
  "kernelspec": {
   "display_name": "Python 3",
   "language": "python",
   "name": "python3"
  },
  "language_info": {
   "codemirror_mode": {
    "name": "ipython",
    "version": 3
   },
   "file_extension": ".py",
   "mimetype": "text/x-python",
   "name": "python",
   "nbconvert_exporter": "python",
   "pygments_lexer": "ipython3",
   "version": "3.11.11"
  }
 },
 "nbformat": 4,
 "nbformat_minor": 4
}
